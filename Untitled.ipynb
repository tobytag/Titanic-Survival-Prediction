{
 "cells": [
  {
   "cell_type": "code",
   "execution_count": 1,
   "metadata": {},
   "outputs": [
    {
     "name": "stdout",
     "output_type": "stream",
     "text": [
      " Volume in drive C has no label.\n",
      " Volume Serial Number is B22B-E5E2\n",
      "\n",
      " Directory of C:\\Users\\user1\\JUpyter\\Kaggle\\titanic\n",
      "\n",
      "10/15/2019  01:13 PM    <DIR>          .\n",
      "10/15/2019  01:13 PM    <DIR>          ..\n",
      "10/06/2019  02:11 PM    <DIR>          .ipynb_checkpoints\n",
      "10/06/2019  02:10 PM             3,258 gender_submission.csv\n",
      "10/11/2019  07:43 PM             5,492 iris\n",
      "10/11/2019  07:43 PM            31,522 iris.pdf\n",
      "10/11/2019  07:29 PM                 0 iris_tree.dot\n",
      "10/14/2019  04:24 PM             5,498 iris1\n",
      "10/14/2019  04:24 PM            31,477 iris1.pdf\n",
      "10/06/2019  02:10 PM            28,629 test.csv\n",
      "10/06/2019  02:10 PM            61,194 train.csv\n",
      "10/15/2019  01:13 PM           221,865 Untitled.ipynb\n",
      "               9 File(s)        388,935 bytes\n",
      "               3 Dir(s)  126,092,374,016 bytes free\n"
     ]
    }
   ],
   "source": [
    "ls"
   ]
  },
  {
   "cell_type": "code",
   "execution_count": 2,
   "metadata": {},
   "outputs": [],
   "source": [
    "import numpy as np\n",
    "import pandas as pd\n",
    "import matplotlib.pyplot as plt \n",
    "%matplotlib inline\n",
    "import seaborn as sns"
   ]
  },
  {
   "cell_type": "code",
   "execution_count": 3,
   "metadata": {},
   "outputs": [
    {
     "data": {
      "text/html": [
       "<div>\n",
       "<style scoped>\n",
       "    .dataframe tbody tr th:only-of-type {\n",
       "        vertical-align: middle;\n",
       "    }\n",
       "\n",
       "    .dataframe tbody tr th {\n",
       "        vertical-align: top;\n",
       "    }\n",
       "\n",
       "    .dataframe thead th {\n",
       "        text-align: right;\n",
       "    }\n",
       "</style>\n",
       "<table border=\"1\" class=\"dataframe\">\n",
       "  <thead>\n",
       "    <tr style=\"text-align: right;\">\n",
       "      <th></th>\n",
       "      <th>PassengerId</th>\n",
       "      <th>Survived</th>\n",
       "      <th>Pclass</th>\n",
       "      <th>Name</th>\n",
       "      <th>Sex</th>\n",
       "      <th>Age</th>\n",
       "      <th>SibSp</th>\n",
       "      <th>Parch</th>\n",
       "      <th>Ticket</th>\n",
       "      <th>Fare</th>\n",
       "      <th>Cabin</th>\n",
       "      <th>Embarked</th>\n",
       "    </tr>\n",
       "  </thead>\n",
       "  <tbody>\n",
       "    <tr>\n",
       "      <th>0</th>\n",
       "      <td>1</td>\n",
       "      <td>0</td>\n",
       "      <td>3</td>\n",
       "      <td>Braund, Mr. Owen Harris</td>\n",
       "      <td>male</td>\n",
       "      <td>22.0</td>\n",
       "      <td>1</td>\n",
       "      <td>0</td>\n",
       "      <td>A/5 21171</td>\n",
       "      <td>7.2500</td>\n",
       "      <td>NaN</td>\n",
       "      <td>S</td>\n",
       "    </tr>\n",
       "    <tr>\n",
       "      <th>1</th>\n",
       "      <td>2</td>\n",
       "      <td>1</td>\n",
       "      <td>1</td>\n",
       "      <td>Cumings, Mrs. John Bradley (Florence Briggs Th...</td>\n",
       "      <td>female</td>\n",
       "      <td>38.0</td>\n",
       "      <td>1</td>\n",
       "      <td>0</td>\n",
       "      <td>PC 17599</td>\n",
       "      <td>71.2833</td>\n",
       "      <td>C85</td>\n",
       "      <td>C</td>\n",
       "    </tr>\n",
       "    <tr>\n",
       "      <th>2</th>\n",
       "      <td>3</td>\n",
       "      <td>1</td>\n",
       "      <td>3</td>\n",
       "      <td>Heikkinen, Miss. Laina</td>\n",
       "      <td>female</td>\n",
       "      <td>26.0</td>\n",
       "      <td>0</td>\n",
       "      <td>0</td>\n",
       "      <td>STON/O2. 3101282</td>\n",
       "      <td>7.9250</td>\n",
       "      <td>NaN</td>\n",
       "      <td>S</td>\n",
       "    </tr>\n",
       "    <tr>\n",
       "      <th>3</th>\n",
       "      <td>4</td>\n",
       "      <td>1</td>\n",
       "      <td>1</td>\n",
       "      <td>Futrelle, Mrs. Jacques Heath (Lily May Peel)</td>\n",
       "      <td>female</td>\n",
       "      <td>35.0</td>\n",
       "      <td>1</td>\n",
       "      <td>0</td>\n",
       "      <td>113803</td>\n",
       "      <td>53.1000</td>\n",
       "      <td>C123</td>\n",
       "      <td>S</td>\n",
       "    </tr>\n",
       "    <tr>\n",
       "      <th>4</th>\n",
       "      <td>5</td>\n",
       "      <td>0</td>\n",
       "      <td>3</td>\n",
       "      <td>Allen, Mr. William Henry</td>\n",
       "      <td>male</td>\n",
       "      <td>35.0</td>\n",
       "      <td>0</td>\n",
       "      <td>0</td>\n",
       "      <td>373450</td>\n",
       "      <td>8.0500</td>\n",
       "      <td>NaN</td>\n",
       "      <td>S</td>\n",
       "    </tr>\n",
       "  </tbody>\n",
       "</table>\n",
       "</div>"
      ],
      "text/plain": [
       "   PassengerId  Survived  Pclass  \\\n",
       "0            1         0       3   \n",
       "1            2         1       1   \n",
       "2            3         1       3   \n",
       "3            4         1       1   \n",
       "4            5         0       3   \n",
       "\n",
       "                                                Name     Sex   Age  SibSp  \\\n",
       "0                            Braund, Mr. Owen Harris    male  22.0      1   \n",
       "1  Cumings, Mrs. John Bradley (Florence Briggs Th...  female  38.0      1   \n",
       "2                             Heikkinen, Miss. Laina  female  26.0      0   \n",
       "3       Futrelle, Mrs. Jacques Heath (Lily May Peel)  female  35.0      1   \n",
       "4                           Allen, Mr. William Henry    male  35.0      0   \n",
       "\n",
       "   Parch            Ticket     Fare Cabin Embarked  \n",
       "0      0         A/5 21171   7.2500   NaN        S  \n",
       "1      0          PC 17599  71.2833   C85        C  \n",
       "2      0  STON/O2. 3101282   7.9250   NaN        S  \n",
       "3      0            113803  53.1000  C123        S  \n",
       "4      0            373450   8.0500   NaN        S  "
      ]
     },
     "execution_count": 3,
     "metadata": {},
     "output_type": "execute_result"
    }
   ],
   "source": [
    "#Reading in the data\n",
    "\n",
    "td = pd.read_csv('train.csv')\n",
    "\n",
    "td.head()"
   ]
  },
  {
   "cell_type": "code",
   "execution_count": 4,
   "metadata": {},
   "outputs": [
    {
     "name": "stdout",
     "output_type": "stream",
     "text": [
      "<class 'pandas.core.frame.DataFrame'>\n",
      "RangeIndex: 891 entries, 0 to 890\n",
      "Data columns (total 12 columns):\n",
      "PassengerId    891 non-null int64\n",
      "Survived       891 non-null int64\n",
      "Pclass         891 non-null int64\n",
      "Name           891 non-null object\n",
      "Sex            891 non-null object\n",
      "Age            714 non-null float64\n",
      "SibSp          891 non-null int64\n",
      "Parch          891 non-null int64\n",
      "Ticket         891 non-null object\n",
      "Fare           891 non-null float64\n",
      "Cabin          204 non-null object\n",
      "Embarked       889 non-null object\n",
      "dtypes: float64(2), int64(5), object(5)\n",
      "memory usage: 83.6+ KB\n"
     ]
    }
   ],
   "source": [
    "# Having a quick look at the columnd in the dataset\n",
    "#There are 891 entriees with the 'Age' and the 'Cabin' column having null values\n",
    "td.info()"
   ]
  },
  {
   "cell_type": "markdown",
   "metadata": {},
   "source": [
    "The 'Cabin' column has a lot of null entries. I would try and explain this by analyzing the data"
   ]
  },
  {
   "cell_type": "code",
   "execution_count": 5,
   "metadata": {},
   "outputs": [
    {
     "data": {
      "text/plain": [
       "G6             0.019608\n",
       "B96 B98        0.019608\n",
       "C23 C25 C27    0.019608\n",
       "C22 C26        0.014706\n",
       "D              0.014706\n",
       "E101           0.014706\n",
       "F2             0.014706\n",
       "F33            0.014706\n",
       "E44            0.009804\n",
       "C78            0.009804\n",
       "D33            0.009804\n",
       "C124           0.009804\n",
       "F4             0.009804\n",
       "B20            0.009804\n",
       "E24            0.009804\n",
       "C93            0.009804\n",
       "E8             0.009804\n",
       "E67            0.009804\n",
       "E33            0.009804\n",
       "B77            0.009804\n",
       "B28            0.009804\n",
       "C68            0.009804\n",
       "B18            0.009804\n",
       "E25            0.009804\n",
       "D36            0.009804\n",
       "C65            0.009804\n",
       "B35            0.009804\n",
       "C126           0.009804\n",
       "C2             0.009804\n",
       "B22            0.009804\n",
       "                 ...   \n",
       "E46            0.004902\n",
       "D15            0.004902\n",
       "C45            0.004902\n",
       "D21            0.004902\n",
       "D46            0.004902\n",
       "C46            0.004902\n",
       "E17            0.004902\n",
       "E50            0.004902\n",
       "C49            0.004902\n",
       "B42            0.004902\n",
       "A19            0.004902\n",
       "C128           0.004902\n",
       "C87            0.004902\n",
       "E31            0.004902\n",
       "E40            0.004902\n",
       "C50            0.004902\n",
       "A36            0.004902\n",
       "A7             0.004902\n",
       "B19            0.004902\n",
       "D19            0.004902\n",
       "D48            0.004902\n",
       "D50            0.004902\n",
       "D37            0.004902\n",
       "B30            0.004902\n",
       "C99            0.004902\n",
       "B37            0.004902\n",
       "E36            0.004902\n",
       "C118           0.004902\n",
       "A5             0.004902\n",
       "C86            0.004902\n",
       "Name: Cabin, Length: 147, dtype: float64"
      ]
     },
     "execution_count": 5,
     "metadata": {},
     "output_type": "execute_result"
    }
   ],
   "source": [
    "#There are 147 cabin types that were accounted for\n",
    "\n",
    "td['Cabin'].value_counts(normalize=True)"
   ]
  },
  {
   "cell_type": "code",
   "execution_count": 6,
   "metadata": {},
   "outputs": [
    {
     "data": {
      "text/plain": [
       "Cabin            Embarked\n",
       "B51 B53 B55      C           512.329200\n",
       "B101             C           512.329200\n",
       "C23 C25 C27      S           263.000000\n",
       "B57 B59 B63 B66  C           262.375000\n",
       "B58 B60          C           247.520800\n",
       "C45              C           227.525000\n",
       "C62 C64          C           227.525000\n",
       "C95              S           221.779200\n",
       "C82              C           211.500000\n",
       "B5               S           211.337500\n",
       "B3               S           211.337500\n",
       "C7               S           164.866700\n",
       "C91              S           153.462500\n",
       "C125             S           153.462500\n",
       "C22 C26          S           151.550000\n",
       "B80              C           146.520800\n",
       "B78              C           146.520800\n",
       "C32              C           135.633300\n",
       "C99              S           135.633300\n",
       "E40              C           134.500000\n",
       "E34              C           134.500000\n",
       "B96 B98          S           120.000000\n",
       "D36              C           113.275000\n",
       "D48              C           113.275000\n",
       "C70              C           110.883300\n",
       "C68              C           110.883300\n",
       "C65              C           108.900000\n",
       "C86              C           106.425000\n",
       "B73              S            93.500000\n",
       "B69              S            93.500000\n",
       "                                ...    \n",
       "B38              S            26.550000\n",
       "C87              S            26.550000\n",
       "E17              S            26.550000\n",
       "E12              S            26.550000\n",
       "C103             S            26.550000\n",
       "E25              S            26.337500\n",
       "E24              S            26.287500\n",
       "D47              S            26.283300\n",
       "F2               S            26.000000\n",
       "A19              S            26.000000\n",
       "D17              S            25.929200\n",
       "E58              S            25.587500\n",
       "F E69            C            22.358300\n",
       "G6               S            13.581250\n",
       "D                C            13.333350\n",
       "D56              S            13.000000\n",
       "D                S            13.000000\n",
       "E121             S            12.475000\n",
       "E101             Q            12.350000\n",
       "                 S            11.750000\n",
       "F33              S            11.333333\n",
       "E77              S            10.500000\n",
       "E10              S             8.050000\n",
       "F38              Q             7.750000\n",
       "F G73            S             7.650000\n",
       "F G63            S             7.650000\n",
       "B51 B53 B55      S             5.000000\n",
       "A36              S             0.000000\n",
       "B102             S             0.000000\n",
       "B94              S             0.000000\n",
       "Name: Fare, Length: 149, dtype: float64"
      ]
     },
     "execution_count": 6,
     "metadata": {},
     "output_type": "execute_result"
    }
   ],
   "source": [
    "#Cabin price does not seem to have any relationship with the the type of the Cabin\n",
    "td.groupby(['Cabin', 'Embarked'])['Fare'].mean().sort_values(ascending=False)"
   ]
  },
  {
   "cell_type": "code",
   "execution_count": 7,
   "metadata": {},
   "outputs": [],
   "source": [
    "#Checking if there any trends among entries whose cabin values are none\n",
    "\n",
    "#td[td['Cabin'].isnull()]"
   ]
  },
  {
   "cell_type": "code",
   "execution_count": 8,
   "metadata": {},
   "outputs": [],
   "source": [
    "#td[~td['Cabin'].isnull()]"
   ]
  },
  {
   "cell_type": "code",
   "execution_count": 9,
   "metadata": {},
   "outputs": [],
   "source": [
    "#td[td['Cabin'].isnull()][td['Survived'] == 1]"
   ]
  },
  {
   "cell_type": "code",
   "execution_count": 10,
   "metadata": {},
   "outputs": [],
   "source": [
    "#td[~td['Cabin'].isnull()][td['Survived'] == 1]"
   ]
  },
  {
   "cell_type": "code",
   "execution_count": 11,
   "metadata": {},
   "outputs": [
    {
     "name": "stderr",
     "output_type": "stream",
     "text": [
      "C:\\Users\\user1\\Anaconda3\\lib\\site-packages\\ipykernel_launcher.py:4: UserWarning: Boolean Series key will be reindexed to match DataFrame index.\n",
      "  after removing the cwd from sys.path.\n"
     ]
    },
    {
     "data": {
      "text/plain": [
       "136"
      ]
     },
     "execution_count": 11,
     "metadata": {},
     "output_type": "execute_result"
    }
   ],
   "source": [
    "#Percentage of people whose cabin type is not known that survived \n",
    "#Number of people who we know their cabin type but survived\n",
    "#len(td[~td['Cabin'].isnull()])\n",
    "len(td[~td['Cabin'].isnull()][td['Survived'] == 1])"
   ]
  },
  {
   "cell_type": "code",
   "execution_count": 12,
   "metadata": {},
   "outputs": [
    {
     "name": "stderr",
     "output_type": "stream",
     "text": [
      "C:\\Users\\user1\\Anaconda3\\lib\\site-packages\\ipykernel_launcher.py:4: UserWarning: Boolean Series key will be reindexed to match DataFrame index.\n",
      "  after removing the cwd from sys.path.\n"
     ]
    },
    {
     "data": {
      "text/plain": [
       "206"
      ]
     },
     "execution_count": 12,
     "metadata": {},
     "output_type": "execute_result"
    }
   ],
   "source": [
    "#Percentage of people whose cabin type is known that survived\n",
    "#Number of people who we don't know their cabin type but they survived\n",
    "#len(td[td['Cabin'].isnull()])\n",
    "len(td[td['Cabin'].isnull()][td['Survived'] == 1])"
   ]
  },
  {
   "cell_type": "markdown",
   "metadata": {},
   "source": [
    "More people whose cabin were not indicated survived \n",
    "Could this mean that maybe there were more stowaways that survived >"
   ]
  },
  {
   "cell_type": "code",
   "execution_count": 13,
   "metadata": {},
   "outputs": [],
   "source": [
    "# Lets check if more married people survived \n",
    "# We create a new column of people who were likely married from their initials\n",
    "\n",
    "td.loc[td['Name'].str.contains('Mrs.|Mr.'), 'Married'] = 1 \n",
    "\n",
    "td['Married'].fillna(0, inplace=True)"
   ]
  },
  {
   "cell_type": "code",
   "execution_count": 14,
   "metadata": {},
   "outputs": [
    {
     "data": {
      "text/html": [
       "<div>\n",
       "<style scoped>\n",
       "    .dataframe tbody tr th:only-of-type {\n",
       "        vertical-align: middle;\n",
       "    }\n",
       "\n",
       "    .dataframe tbody tr th {\n",
       "        vertical-align: top;\n",
       "    }\n",
       "\n",
       "    .dataframe thead th {\n",
       "        text-align: right;\n",
       "    }\n",
       "</style>\n",
       "<table border=\"1\" class=\"dataframe\">\n",
       "  <thead>\n",
       "    <tr style=\"text-align: right;\">\n",
       "      <th></th>\n",
       "      <th>PassengerId</th>\n",
       "      <th>Survived</th>\n",
       "      <th>Pclass</th>\n",
       "      <th>Name</th>\n",
       "      <th>Sex</th>\n",
       "      <th>Age</th>\n",
       "      <th>SibSp</th>\n",
       "      <th>Parch</th>\n",
       "      <th>Ticket</th>\n",
       "      <th>Fare</th>\n",
       "      <th>Cabin</th>\n",
       "      <th>Embarked</th>\n",
       "      <th>Married</th>\n",
       "    </tr>\n",
       "  </thead>\n",
       "  <tbody>\n",
       "    <tr>\n",
       "      <th>0</th>\n",
       "      <td>1</td>\n",
       "      <td>0</td>\n",
       "      <td>3</td>\n",
       "      <td>Braund, Mr. Owen Harris</td>\n",
       "      <td>male</td>\n",
       "      <td>22.0</td>\n",
       "      <td>1</td>\n",
       "      <td>0</td>\n",
       "      <td>A/5 21171</td>\n",
       "      <td>7.2500</td>\n",
       "      <td>NaN</td>\n",
       "      <td>S</td>\n",
       "      <td>1.0</td>\n",
       "    </tr>\n",
       "    <tr>\n",
       "      <th>1</th>\n",
       "      <td>2</td>\n",
       "      <td>1</td>\n",
       "      <td>1</td>\n",
       "      <td>Cumings, Mrs. John Bradley (Florence Briggs Th...</td>\n",
       "      <td>female</td>\n",
       "      <td>38.0</td>\n",
       "      <td>1</td>\n",
       "      <td>0</td>\n",
       "      <td>PC 17599</td>\n",
       "      <td>71.2833</td>\n",
       "      <td>C85</td>\n",
       "      <td>C</td>\n",
       "      <td>1.0</td>\n",
       "    </tr>\n",
       "    <tr>\n",
       "      <th>2</th>\n",
       "      <td>3</td>\n",
       "      <td>1</td>\n",
       "      <td>3</td>\n",
       "      <td>Heikkinen, Miss. Laina</td>\n",
       "      <td>female</td>\n",
       "      <td>26.0</td>\n",
       "      <td>0</td>\n",
       "      <td>0</td>\n",
       "      <td>STON/O2. 3101282</td>\n",
       "      <td>7.9250</td>\n",
       "      <td>NaN</td>\n",
       "      <td>S</td>\n",
       "      <td>0.0</td>\n",
       "    </tr>\n",
       "    <tr>\n",
       "      <th>3</th>\n",
       "      <td>4</td>\n",
       "      <td>1</td>\n",
       "      <td>1</td>\n",
       "      <td>Futrelle, Mrs. Jacques Heath (Lily May Peel)</td>\n",
       "      <td>female</td>\n",
       "      <td>35.0</td>\n",
       "      <td>1</td>\n",
       "      <td>0</td>\n",
       "      <td>113803</td>\n",
       "      <td>53.1000</td>\n",
       "      <td>C123</td>\n",
       "      <td>S</td>\n",
       "      <td>1.0</td>\n",
       "    </tr>\n",
       "    <tr>\n",
       "      <th>4</th>\n",
       "      <td>5</td>\n",
       "      <td>0</td>\n",
       "      <td>3</td>\n",
       "      <td>Allen, Mr. William Henry</td>\n",
       "      <td>male</td>\n",
       "      <td>35.0</td>\n",
       "      <td>0</td>\n",
       "      <td>0</td>\n",
       "      <td>373450</td>\n",
       "      <td>8.0500</td>\n",
       "      <td>NaN</td>\n",
       "      <td>S</td>\n",
       "      <td>1.0</td>\n",
       "    </tr>\n",
       "  </tbody>\n",
       "</table>\n",
       "</div>"
      ],
      "text/plain": [
       "   PassengerId  Survived  Pclass  \\\n",
       "0            1         0       3   \n",
       "1            2         1       1   \n",
       "2            3         1       3   \n",
       "3            4         1       1   \n",
       "4            5         0       3   \n",
       "\n",
       "                                                Name     Sex   Age  SibSp  \\\n",
       "0                            Braund, Mr. Owen Harris    male  22.0      1   \n",
       "1  Cumings, Mrs. John Bradley (Florence Briggs Th...  female  38.0      1   \n",
       "2                             Heikkinen, Miss. Laina  female  26.0      0   \n",
       "3       Futrelle, Mrs. Jacques Heath (Lily May Peel)  female  35.0      1   \n",
       "4                           Allen, Mr. William Henry    male  35.0      0   \n",
       "\n",
       "   Parch            Ticket     Fare Cabin Embarked  Married  \n",
       "0      0         A/5 21171   7.2500   NaN        S      1.0  \n",
       "1      0          PC 17599  71.2833   C85        C      1.0  \n",
       "2      0  STON/O2. 3101282   7.9250   NaN        S      0.0  \n",
       "3      0            113803  53.1000  C123        S      1.0  \n",
       "4      0            373450   8.0500   NaN        S      1.0  "
      ]
     },
     "execution_count": 14,
     "metadata": {},
     "output_type": "execute_result"
    }
   ],
   "source": [
    "td.head()"
   ]
  },
  {
   "cell_type": "code",
   "execution_count": 15,
   "metadata": {},
   "outputs": [
    {
     "data": {
      "text/plain": [
       "<matplotlib.axes._subplots.AxesSubplot at 0x18a515e22e8>"
      ]
     },
     "execution_count": 15,
     "metadata": {},
     "output_type": "execute_result"
    },
    {
     "data": {
      "image/png": "[encoded data removed]",
      "text/plain": [
       "<Figure size 432x432 with 1 Axes>"
      ]
     },
     "metadata": {
      "needs_background": "light"
     },
     "output_type": "display_data"
    }
   ],
   "source": [
    " # Plotting a bar chart of the married individuals\n",
    "td['Married'].value_counts().plot(kind='bar', figsize=(6, 6))\n",
    "\n",
    "# We see that most of the indivduals on the ship were married"
   ]
  },
  {
   "cell_type": "code",
   "execution_count": 16,
   "metadata": {},
   "outputs": [
    {
     "data": {
      "text/plain": [
       "<matplotlib.axes._subplots.AxesSubplot at 0x18a516a85f8>"
      ]
     },
     "execution_count": 16,
     "metadata": {},
     "output_type": "execute_result"
    },
    {
     "data": {
      "image/png": "[encoded data removed]",
      "text/plain": [
       "<Figure size 432x432 with 1 Axes>"
      ]
     },
     "metadata": {
      "needs_background": "light"
     },
     "output_type": "display_data"
    }
   ],
   "source": [
    "# Let's check if more married people survived\n",
    "\n",
    "td['Married'][td['Survived']==1].value_counts().plot(kind='bar', figsize=(6,6), alpha=0.8)\n",
    "\n",
    "# We can see that more married individuals survived"
   ]
  },
  {
   "cell_type": "markdown",
   "metadata": {},
   "source": []
  },
  {
   "cell_type": "code",
   "execution_count": 17,
   "metadata": {},
   "outputs": [
    {
     "data": {
      "text/plain": [
       "<matplotlib.axes._subplots.AxesSubplot at 0x18a5172bac8>"
      ]
     },
     "execution_count": 17,
     "metadata": {},
     "output_type": "execute_result"
    },
    {
     "data": {
      "image/png": "[encoded data removed]",
      "text/plain": [
       "<Figure size 432x288 with 1 Axes>"
      ]
     },
     "metadata": {
      "needs_background": "light"
     },
     "output_type": "display_data"
    }
   ],
   "source": [
    "td['Sex'][td['Survived']==1].value_counts().plot(kind='bar', color='red', alpha=0.6)\n",
    "\n",
    "# Females had a greater chance of surviving than Men "
   ]
  },
  {
   "cell_type": "code",
   "execution_count": 18,
   "metadata": {
    "scrolled": true
   },
   "outputs": [
    {
     "data": {
      "text/plain": [
       "<matplotlib.axes._subplots.AxesSubplot at 0x18a51797ba8>"
      ]
     },
     "execution_count": 18,
     "metadata": {},
     "output_type": "execute_result"
    },
    {
     "data": {
      "image/png": "[encoded data removed]",
      "text/plain": [
       "<Figure size 576x576 with 1 Axes>"
      ]
     },
     "metadata": {
      "needs_background": "light"
     },
     "output_type": "display_data"
    }
   ],
   "source": [
    "# Let's take a look at the distribution of the age column\n",
    "\n",
    "td['Age'].plot.hist(bins=50, figsize=(8,8))"
   ]
  },
  {
   "cell_type": "markdown",
   "metadata": {},
   "source": [
    "- The distribution is quite heavy around the tails.\n",
    "-  Also, the large number of entries around 0 shows that there were many infants on board"
   ]
  },
  {
   "cell_type": "code",
   "execution_count": null,
   "metadata": {},
   "outputs": [],
   "source": []
  },
  {
   "cell_type": "code",
   "execution_count": 19,
   "metadata": {},
   "outputs": [
    {
     "data": {
      "text/plain": [
       "<matplotlib.axes._subplots.AxesSubplot at 0x18a519e34e0>"
      ]
     },
     "execution_count": 19,
     "metadata": {},
     "output_type": "execute_result"
    },
    {
     "data": {
      "image/png": "[encoded data removed]",
      "text/plain": [
       "<Figure size 720x576 with 1 Axes>"
      ]
     },
     "metadata": {
      "needs_background": "light"
     },
     "output_type": "display_data"
    }
   ],
   "source": [
    "td['Age'][td['Survived']==1].plot.hist(bins=50, figsize=(10,8))\n",
    "\n"
   ]
  },
  {
   "cell_type": "code",
   "execution_count": 20,
   "metadata": {},
   "outputs": [
    {
     "data": {
      "text/plain": [
       "<matplotlib.axes._subplots.AxesSubplot at 0x18a5192ec88>"
      ]
     },
     "execution_count": 20,
     "metadata": {},
     "output_type": "execute_result"
    },
    {
     "data": {
      "image/png": "[encoded data removed]",
      "text/plain": [
       "<Figure size 720x576 with 1 Axes>"
      ]
     },
     "metadata": {
      "needs_background": "light"
     },
     "output_type": "display_data"
    }
   ],
   "source": [
    "td['Age'][td['Survived']==1].plot.density(figsize=(10,8))"
   ]
  },
  {
   "cell_type": "code",
   "execution_count": 21,
   "metadata": {},
   "outputs": [],
   "source": [
    "#a = td['Age'][td['Survived']==1][td['Sex']=='female']"
   ]
  },
  {
   "cell_type": "code",
   "execution_count": 22,
   "metadata": {},
   "outputs": [],
   "source": [
    "#sns.distplot(a, bins=60, color='k')"
   ]
  },
  {
   "cell_type": "code",
   "execution_count": 23,
   "metadata": {},
   "outputs": [
    {
     "data": {
      "text/html": [
       "<div>\n",
       "<style scoped>\n",
       "    .dataframe tbody tr th:only-of-type {\n",
       "        vertical-align: middle;\n",
       "    }\n",
       "\n",
       "    .dataframe tbody tr th {\n",
       "        vertical-align: top;\n",
       "    }\n",
       "\n",
       "    .dataframe thead th {\n",
       "        text-align: right;\n",
       "    }\n",
       "</style>\n",
       "<table border=\"1\" class=\"dataframe\">\n",
       "  <thead>\n",
       "    <tr style=\"text-align: right;\">\n",
       "      <th></th>\n",
       "      <th>PassengerId</th>\n",
       "      <th>Survived</th>\n",
       "      <th>Pclass</th>\n",
       "      <th>Name</th>\n",
       "      <th>Sex</th>\n",
       "      <th>Age</th>\n",
       "      <th>SibSp</th>\n",
       "      <th>Parch</th>\n",
       "      <th>Ticket</th>\n",
       "      <th>Fare</th>\n",
       "      <th>Cabin</th>\n",
       "      <th>Embarked</th>\n",
       "      <th>Married</th>\n",
       "    </tr>\n",
       "  </thead>\n",
       "  <tbody>\n",
       "    <tr>\n",
       "      <th>0</th>\n",
       "      <td>1</td>\n",
       "      <td>0</td>\n",
       "      <td>3</td>\n",
       "      <td>Braund, Mr. Owen Harris</td>\n",
       "      <td>male</td>\n",
       "      <td>22.0</td>\n",
       "      <td>1</td>\n",
       "      <td>0</td>\n",
       "      <td>A/5 21171</td>\n",
       "      <td>7.2500</td>\n",
       "      <td>NaN</td>\n",
       "      <td>S</td>\n",
       "      <td>1.0</td>\n",
       "    </tr>\n",
       "    <tr>\n",
       "      <th>1</th>\n",
       "      <td>2</td>\n",
       "      <td>1</td>\n",
       "      <td>1</td>\n",
       "      <td>Cumings, Mrs. John Bradley (Florence Briggs Th...</td>\n",
       "      <td>female</td>\n",
       "      <td>38.0</td>\n",
       "      <td>1</td>\n",
       "      <td>0</td>\n",
       "      <td>PC 17599</td>\n",
       "      <td>71.2833</td>\n",
       "      <td>C85</td>\n",
       "      <td>C</td>\n",
       "      <td>1.0</td>\n",
       "    </tr>\n",
       "    <tr>\n",
       "      <th>2</th>\n",
       "      <td>3</td>\n",
       "      <td>1</td>\n",
       "      <td>3</td>\n",
       "      <td>Heikkinen, Miss. Laina</td>\n",
       "      <td>female</td>\n",
       "      <td>26.0</td>\n",
       "      <td>0</td>\n",
       "      <td>0</td>\n",
       "      <td>STON/O2. 3101282</td>\n",
       "      <td>7.9250</td>\n",
       "      <td>NaN</td>\n",
       "      <td>S</td>\n",
       "      <td>0.0</td>\n",
       "    </tr>\n",
       "    <tr>\n",
       "      <th>3</th>\n",
       "      <td>4</td>\n",
       "      <td>1</td>\n",
       "      <td>1</td>\n",
       "      <td>Futrelle, Mrs. Jacques Heath (Lily May Peel)</td>\n",
       "      <td>female</td>\n",
       "      <td>35.0</td>\n",
       "      <td>1</td>\n",
       "      <td>0</td>\n",
       "      <td>113803</td>\n",
       "      <td>53.1000</td>\n",
       "      <td>C123</td>\n",
       "      <td>S</td>\n",
       "      <td>1.0</td>\n",
       "    </tr>\n",
       "    <tr>\n",
       "      <th>4</th>\n",
       "      <td>5</td>\n",
       "      <td>0</td>\n",
       "      <td>3</td>\n",
       "      <td>Allen, Mr. William Henry</td>\n",
       "      <td>male</td>\n",
       "      <td>35.0</td>\n",
       "      <td>0</td>\n",
       "      <td>0</td>\n",
       "      <td>373450</td>\n",
       "      <td>8.0500</td>\n",
       "      <td>NaN</td>\n",
       "      <td>S</td>\n",
       "      <td>1.0</td>\n",
       "    </tr>\n",
       "  </tbody>\n",
       "</table>\n",
       "</div>"
      ],
      "text/plain": [
       "   PassengerId  Survived  Pclass  \\\n",
       "0            1         0       3   \n",
       "1            2         1       1   \n",
       "2            3         1       3   \n",
       "3            4         1       1   \n",
       "4            5         0       3   \n",
       "\n",
       "                                                Name     Sex   Age  SibSp  \\\n",
       "0                            Braund, Mr. Owen Harris    male  22.0      1   \n",
       "1  Cumings, Mrs. John Bradley (Florence Briggs Th...  female  38.0      1   \n",
       "2                             Heikkinen, Miss. Laina  female  26.0      0   \n",
       "3       Futrelle, Mrs. Jacques Heath (Lily May Peel)  female  35.0      1   \n",
       "4                           Allen, Mr. William Henry    male  35.0      0   \n",
       "\n",
       "   Parch            Ticket     Fare Cabin Embarked  Married  \n",
       "0      0         A/5 21171   7.2500   NaN        S      1.0  \n",
       "1      0          PC 17599  71.2833   C85        C      1.0  \n",
       "2      0  STON/O2. 3101282   7.9250   NaN        S      0.0  \n",
       "3      0            113803  53.1000  C123        S      1.0  \n",
       "4      0            373450   8.0500   NaN        S      1.0  "
      ]
     },
     "execution_count": 23,
     "metadata": {},
     "output_type": "execute_result"
    }
   ],
   "source": [
    "td.head()"
   ]
  },
  {
   "cell_type": "code",
   "execution_count": 24,
   "metadata": {},
   "outputs": [],
   "source": [
    "td1 = td.copy()"
   ]
  },
  {
   "cell_type": "code",
   "execution_count": 25,
   "metadata": {},
   "outputs": [
    {
     "data": {
      "text/html": [
       "<div>\n",
       "<style scoped>\n",
       "    .dataframe tbody tr th:only-of-type {\n",
       "        vertical-align: middle;\n",
       "    }\n",
       "\n",
       "    .dataframe tbody tr th {\n",
       "        vertical-align: top;\n",
       "    }\n",
       "\n",
       "    .dataframe thead th {\n",
       "        text-align: right;\n",
       "    }\n",
       "</style>\n",
       "<table border=\"1\" class=\"dataframe\">\n",
       "  <thead>\n",
       "    <tr style=\"text-align: right;\">\n",
       "      <th></th>\n",
       "      <th>PassengerId</th>\n",
       "      <th>Survived</th>\n",
       "      <th>Pclass</th>\n",
       "      <th>Name</th>\n",
       "      <th>Sex</th>\n",
       "      <th>Age</th>\n",
       "      <th>SibSp</th>\n",
       "      <th>Parch</th>\n",
       "      <th>Ticket</th>\n",
       "      <th>Fare</th>\n",
       "      <th>Cabin</th>\n",
       "      <th>Embarked</th>\n",
       "      <th>Married</th>\n",
       "    </tr>\n",
       "  </thead>\n",
       "  <tbody>\n",
       "    <tr>\n",
       "      <th>61</th>\n",
       "      <td>62</td>\n",
       "      <td>1</td>\n",
       "      <td>1</td>\n",
       "      <td>Icard, Miss. Amelie</td>\n",
       "      <td>female</td>\n",
       "      <td>38.0</td>\n",
       "      <td>0</td>\n",
       "      <td>0</td>\n",
       "      <td>113572</td>\n",
       "      <td>80.0</td>\n",
       "      <td>B28</td>\n",
       "      <td>NaN</td>\n",
       "      <td>0.0</td>\n",
       "    </tr>\n",
       "    <tr>\n",
       "      <th>829</th>\n",
       "      <td>830</td>\n",
       "      <td>1</td>\n",
       "      <td>1</td>\n",
       "      <td>Stone, Mrs. George Nelson (Martha Evelyn)</td>\n",
       "      <td>female</td>\n",
       "      <td>62.0</td>\n",
       "      <td>0</td>\n",
       "      <td>0</td>\n",
       "      <td>113572</td>\n",
       "      <td>80.0</td>\n",
       "      <td>B28</td>\n",
       "      <td>NaN</td>\n",
       "      <td>1.0</td>\n",
       "    </tr>\n",
       "  </tbody>\n",
       "</table>\n",
       "</div>"
      ],
      "text/plain": [
       "     PassengerId  Survived  Pclass                                       Name  \\\n",
       "61            62         1       1                        Icard, Miss. Amelie   \n",
       "829          830         1       1  Stone, Mrs. George Nelson (Martha Evelyn)   \n",
       "\n",
       "        Sex   Age  SibSp  Parch  Ticket  Fare Cabin Embarked  Married  \n",
       "61   female  38.0      0      0  113572  80.0   B28      NaN      0.0  \n",
       "829  female  62.0      0      0  113572  80.0   B28      NaN      1.0  "
      ]
     },
     "execution_count": 25,
     "metadata": {},
     "output_type": "execute_result"
    }
   ],
   "source": [
    "td[td['Embarked'].isnull()]"
   ]
  },
  {
   "cell_type": "code",
   "execution_count": 26,
   "metadata": {},
   "outputs": [
    {
     "data": {
      "text/plain": [
       "S    0.724409\n",
       "C    0.188976\n",
       "Q    0.086614\n",
       "Name: Embarked, dtype: float64"
      ]
     },
     "execution_count": 26,
     "metadata": {},
     "output_type": "execute_result"
    }
   ],
   "source": [
    "td['Embarked'].value_counts(normalize=True)\n",
    "\n",
    "#S is the most like port of embarkment"
   ]
  },
  {
   "cell_type": "code",
   "execution_count": 27,
   "metadata": {},
   "outputs": [],
   "source": [
    "#Filling the null values in the Embarked column with S, the mode\n",
    "\n",
    "td1['Embarked'].fillna('S', inplace=True)"
   ]
  },
  {
   "cell_type": "code",
   "execution_count": 28,
   "metadata": {},
   "outputs": [],
   "source": [
    "#dropping the name and cabin columns\n",
    "\n",
    "td1 = td.drop(['Name', 'Cabin'], axis=1)"
   ]
  },
  {
   "cell_type": "code",
   "execution_count": 29,
   "metadata": {},
   "outputs": [
    {
     "data": {
      "text/plain": [
       "PassengerId    False\n",
       "Survived       False\n",
       "Pclass         False\n",
       "Sex            False\n",
       "Age             True\n",
       "SibSp          False\n",
       "Parch          False\n",
       "Ticket         False\n",
       "Fare           False\n",
       "Embarked        True\n",
       "Married        False\n",
       "dtype: bool"
      ]
     },
     "execution_count": 29,
     "metadata": {},
     "output_type": "execute_result"
    }
   ],
   "source": [
    "#checking for null values\n",
    "\n",
    "td1.isnull().any()"
   ]
  },
  {
   "cell_type": "code",
   "execution_count": 31,
   "metadata": {},
   "outputs": [],
   "source": [
    "#Let's fill the null values in ages with their averages\n",
    "\n",
    "\n",
    "mms = round(td1['Age'][td1['Married']==1][td1['Sex']=='male'].mean()) # the average of married men that survived\n",
    "sms = round(td1['Age'][td1['Married']==0][td1['Sex']=='male'].mean()) # the average of married men that did not survive\n",
    "mws = round(td1['Age'][td1['Married']==1][td1['Sex']=='female'].mean()) # the average of married women that survived\n",
    "sws = round(td1['Age'][td1['Married']==0][td1['Sex']=='female'].mean()) # the average of married women that did not survive"
   ]
  },
  {
   "cell_type": "code",
   "execution_count": 32,
   "metadata": {},
   "outputs": [
    {
     "data": {
      "text/plain": [
       "(32, 18, 36, 22)"
      ]
     },
     "execution_count": 32,
     "metadata": {},
     "output_type": "execute_result"
    }
   ],
   "source": [
    "mms, sms, mws, sws"
   ]
  },
  {
   "cell_type": "code",
   "execution_count": 33,
   "metadata": {},
   "outputs": [],
   "source": [
    "\n",
    "a = (td1['Married']==1) & (td1['Sex']=='male')\n",
    "b = (td1['Married']==0) & (td1['Sex']=='male')\n",
    "c = (td1['Married']==1) & (td1['Sex']=='female')\n",
    "d = (td1['Married']==0) & (td1['Sex']=='female')\n",
    "\n",
    "td1.loc[a, 'Age'] = td1.loc[a, 'Age'].fillna(mms)\n",
    "td1.loc[b, 'Age'] = td1.loc[b, 'Age'].fillna(sms)\n",
    "td1.loc[c, 'Age'] = td1.loc[c, 'Age'].fillna(mws)\n",
    "td1.loc[d, 'Age'] = td1.loc[d, 'Age'].fillna(sms)\n"
   ]
  },
  {
   "cell_type": "code",
   "execution_count": 34,
   "metadata": {},
   "outputs": [
    {
     "data": {
      "text/plain": [
       "False"
      ]
     },
     "execution_count": 34,
     "metadata": {},
     "output_type": "execute_result"
    }
   ],
   "source": [
    "td1['Age'].isnull().any()"
   ]
  },
  {
   "cell_type": "code",
   "execution_count": 35,
   "metadata": {},
   "outputs": [
    {
     "data": {
      "text/plain": [
       "Survived\n",
       "0    22.117887\n",
       "1    48.395408\n",
       "Name: Fare, dtype: float64"
      ]
     },
     "execution_count": 35,
     "metadata": {},
     "output_type": "execute_result"
    }
   ],
   "source": [
    "#Let's check the mean fare paid by those that survived\n",
    "\n",
    "td1.groupby('Survived')['Fare'].mean()\n",
    "\n",
    "#people who paid an higher fare survived on the average"
   ]
  },
  {
   "cell_type": "code",
   "execution_count": 36,
   "metadata": {},
   "outputs": [
    {
     "data": {
      "text/plain": [
       "Survived  Embarked\n",
       "0         C            75\n",
       "          Q            47\n",
       "          S           427\n",
       "1         C            93\n",
       "          Q            30\n",
       "          S           217\n",
       "dtype: int64"
      ]
     },
     "execution_count": 36,
     "metadata": {},
     "output_type": "execute_result"
    }
   ],
   "source": [
    "#Let's check if the port of embarkment affects the chances of survival\n",
    "\n",
    "td1.groupby(['Survived', 'Embarked']).size()\n",
    "\n",
    "\n"
   ]
  },
  {
   "cell_type": "code",
   "execution_count": 39,
   "metadata": {},
   "outputs": [
    {
     "data": {
      "text/plain": [
       "<matplotlib.axes._subplots.AxesSubplot at 0x18a52132400>"
      ]
     },
     "execution_count": 39,
     "metadata": {},
     "output_type": "execute_result"
    },
    {
     "data": {
      "image/png": "[encoded data removed]",
      "text/plain": [
       "<Figure size 720x576 with 1 Axes>"
      ]
     },
     "metadata": {
      "needs_background": "light"
     },
     "output_type": "display_data"
    }
   ],
   "source": [
    "td1.groupby(['Survived', 'Embarked']).size().plot(kind='bar', figsize=(10,8))\n",
    "\n"
   ]
  },
  {
   "cell_type": "code",
   "execution_count": 40,
   "metadata": {},
   "outputs": [
    {
     "data": {
      "text/plain": [
       "<matplotlib.axes._subplots.AxesSubplot at 0x18a521ae710>"
      ]
     },
     "execution_count": 40,
     "metadata": {},
     "output_type": "execute_result"
    },
    {
     "data": {
      "image/png": "[encoded data removed]",
      "text/plain": [
       "<Figure size 432x288 with 1 Axes>"
      ]
     },
     "metadata": {
      "needs_background": "light"
     },
     "output_type": "display_data"
    }
   ],
   "source": [
    "td1['Embarked'].value_counts(normalize=True).plot(kind='bar')"
   ]
  },
  {
   "cell_type": "code",
   "execution_count": 41,
   "metadata": {},
   "outputs": [],
   "source": [
    "td1.rename(index=str, columns={'Married_0.0':'Single', 'Married_1.0': 'Married'}, inplace=True)"
   ]
  },
  {
   "cell_type": "code",
   "execution_count": 42,
   "metadata": {},
   "outputs": [
    {
     "data": {
      "text/html": [
       "<div>\n",
       "<style scoped>\n",
       "    .dataframe tbody tr th:only-of-type {\n",
       "        vertical-align: middle;\n",
       "    }\n",
       "\n",
       "    .dataframe tbody tr th {\n",
       "        vertical-align: top;\n",
       "    }\n",
       "\n",
       "    .dataframe thead th {\n",
       "        text-align: right;\n",
       "    }\n",
       "</style>\n",
       "<table border=\"1\" class=\"dataframe\">\n",
       "  <thead>\n",
       "    <tr style=\"text-align: right;\">\n",
       "      <th></th>\n",
       "      <th>PassengerId</th>\n",
       "      <th>Survived</th>\n",
       "      <th>Pclass</th>\n",
       "      <th>Sex</th>\n",
       "      <th>Age</th>\n",
       "      <th>SibSp</th>\n",
       "      <th>Parch</th>\n",
       "      <th>Ticket</th>\n",
       "      <th>Fare</th>\n",
       "      <th>Embarked</th>\n",
       "      <th>Married</th>\n",
       "    </tr>\n",
       "  </thead>\n",
       "  <tbody>\n",
       "    <tr>\n",
       "      <th>0</th>\n",
       "      <td>1</td>\n",
       "      <td>0</td>\n",
       "      <td>3</td>\n",
       "      <td>male</td>\n",
       "      <td>22.0</td>\n",
       "      <td>1</td>\n",
       "      <td>0</td>\n",
       "      <td>A/5 21171</td>\n",
       "      <td>7.2500</td>\n",
       "      <td>S</td>\n",
       "      <td>1.0</td>\n",
       "    </tr>\n",
       "    <tr>\n",
       "      <th>1</th>\n",
       "      <td>2</td>\n",
       "      <td>1</td>\n",
       "      <td>1</td>\n",
       "      <td>female</td>\n",
       "      <td>38.0</td>\n",
       "      <td>1</td>\n",
       "      <td>0</td>\n",
       "      <td>PC 17599</td>\n",
       "      <td>71.2833</td>\n",
       "      <td>C</td>\n",
       "      <td>1.0</td>\n",
       "    </tr>\n",
       "    <tr>\n",
       "      <th>2</th>\n",
       "      <td>3</td>\n",
       "      <td>1</td>\n",
       "      <td>3</td>\n",
       "      <td>female</td>\n",
       "      <td>26.0</td>\n",
       "      <td>0</td>\n",
       "      <td>0</td>\n",
       "      <td>STON/O2. 3101282</td>\n",
       "      <td>7.9250</td>\n",
       "      <td>S</td>\n",
       "      <td>0.0</td>\n",
       "    </tr>\n",
       "    <tr>\n",
       "      <th>3</th>\n",
       "      <td>4</td>\n",
       "      <td>1</td>\n",
       "      <td>1</td>\n",
       "      <td>female</td>\n",
       "      <td>35.0</td>\n",
       "      <td>1</td>\n",
       "      <td>0</td>\n",
       "      <td>113803</td>\n",
       "      <td>53.1000</td>\n",
       "      <td>S</td>\n",
       "      <td>1.0</td>\n",
       "    </tr>\n",
       "    <tr>\n",
       "      <th>4</th>\n",
       "      <td>5</td>\n",
       "      <td>0</td>\n",
       "      <td>3</td>\n",
       "      <td>male</td>\n",
       "      <td>35.0</td>\n",
       "      <td>0</td>\n",
       "      <td>0</td>\n",
       "      <td>373450</td>\n",
       "      <td>8.0500</td>\n",
       "      <td>S</td>\n",
       "      <td>1.0</td>\n",
       "    </tr>\n",
       "  </tbody>\n",
       "</table>\n",
       "</div>"
      ],
      "text/plain": [
       "   PassengerId  Survived  Pclass     Sex   Age  SibSp  Parch  \\\n",
       "0            1         0       3    male  22.0      1      0   \n",
       "1            2         1       1  female  38.0      1      0   \n",
       "2            3         1       3  female  26.0      0      0   \n",
       "3            4         1       1  female  35.0      1      0   \n",
       "4            5         0       3    male  35.0      0      0   \n",
       "\n",
       "             Ticket     Fare Embarked  Married  \n",
       "0         A/5 21171   7.2500        S      1.0  \n",
       "1          PC 17599  71.2833        C      1.0  \n",
       "2  STON/O2. 3101282   7.9250        S      0.0  \n",
       "3            113803  53.1000        S      1.0  \n",
       "4            373450   8.0500        S      1.0  "
      ]
     },
     "execution_count": 42,
     "metadata": {},
     "output_type": "execute_result"
    }
   ],
   "source": [
    "td1.head()"
   ]
  },
  {
   "cell_type": "markdown",
   "metadata": {},
   "source": [
    "## Lets get the dummy variables for the categorical values"
   ]
  },
  {
   "cell_type": "code",
   "execution_count": 43,
   "metadata": {},
   "outputs": [
    {
     "data": {
      "text/html": [
       "<div>\n",
       "<style scoped>\n",
       "    .dataframe tbody tr th:only-of-type {\n",
       "        vertical-align: middle;\n",
       "    }\n",
       "\n",
       "    .dataframe tbody tr th {\n",
       "        vertical-align: top;\n",
       "    }\n",
       "\n",
       "    .dataframe thead th {\n",
       "        text-align: right;\n",
       "    }\n",
       "</style>\n",
       "<table border=\"1\" class=\"dataframe\">\n",
       "  <thead>\n",
       "    <tr style=\"text-align: right;\">\n",
       "      <th></th>\n",
       "      <th>PassengerId</th>\n",
       "      <th>Survived</th>\n",
       "      <th>Pclass</th>\n",
       "      <th>Age</th>\n",
       "      <th>SibSp</th>\n",
       "      <th>Parch</th>\n",
       "      <th>Ticket</th>\n",
       "      <th>Fare</th>\n",
       "      <th>Embarked</th>\n",
       "      <th>Married</th>\n",
       "      <th>female</th>\n",
       "      <th>male</th>\n",
       "    </tr>\n",
       "  </thead>\n",
       "  <tbody>\n",
       "    <tr>\n",
       "      <th>0</th>\n",
       "      <td>1</td>\n",
       "      <td>0</td>\n",
       "      <td>3</td>\n",
       "      <td>22.0</td>\n",
       "      <td>1</td>\n",
       "      <td>0</td>\n",
       "      <td>A/5 21171</td>\n",
       "      <td>7.2500</td>\n",
       "      <td>S</td>\n",
       "      <td>1.0</td>\n",
       "      <td>0</td>\n",
       "      <td>1</td>\n",
       "    </tr>\n",
       "    <tr>\n",
       "      <th>1</th>\n",
       "      <td>2</td>\n",
       "      <td>1</td>\n",
       "      <td>1</td>\n",
       "      <td>38.0</td>\n",
       "      <td>1</td>\n",
       "      <td>0</td>\n",
       "      <td>PC 17599</td>\n",
       "      <td>71.2833</td>\n",
       "      <td>C</td>\n",
       "      <td>1.0</td>\n",
       "      <td>1</td>\n",
       "      <td>0</td>\n",
       "    </tr>\n",
       "    <tr>\n",
       "      <th>2</th>\n",
       "      <td>3</td>\n",
       "      <td>1</td>\n",
       "      <td>3</td>\n",
       "      <td>26.0</td>\n",
       "      <td>0</td>\n",
       "      <td>0</td>\n",
       "      <td>STON/O2. 3101282</td>\n",
       "      <td>7.9250</td>\n",
       "      <td>S</td>\n",
       "      <td>0.0</td>\n",
       "      <td>1</td>\n",
       "      <td>0</td>\n",
       "    </tr>\n",
       "    <tr>\n",
       "      <th>3</th>\n",
       "      <td>4</td>\n",
       "      <td>1</td>\n",
       "      <td>1</td>\n",
       "      <td>35.0</td>\n",
       "      <td>1</td>\n",
       "      <td>0</td>\n",
       "      <td>113803</td>\n",
       "      <td>53.1000</td>\n",
       "      <td>S</td>\n",
       "      <td>1.0</td>\n",
       "      <td>1</td>\n",
       "      <td>0</td>\n",
       "    </tr>\n",
       "    <tr>\n",
       "      <th>4</th>\n",
       "      <td>5</td>\n",
       "      <td>0</td>\n",
       "      <td>3</td>\n",
       "      <td>35.0</td>\n",
       "      <td>0</td>\n",
       "      <td>0</td>\n",
       "      <td>373450</td>\n",
       "      <td>8.0500</td>\n",
       "      <td>S</td>\n",
       "      <td>1.0</td>\n",
       "      <td>0</td>\n",
       "      <td>1</td>\n",
       "    </tr>\n",
       "  </tbody>\n",
       "</table>\n",
       "</div>"
      ],
      "text/plain": [
       "   PassengerId  Survived  Pclass   Age  SibSp  Parch            Ticket  \\\n",
       "0            1         0       3  22.0      1      0         A/5 21171   \n",
       "1            2         1       1  38.0      1      0          PC 17599   \n",
       "2            3         1       3  26.0      0      0  STON/O2. 3101282   \n",
       "3            4         1       1  35.0      1      0            113803   \n",
       "4            5         0       3  35.0      0      0            373450   \n",
       "\n",
       "      Fare Embarked  Married  female  male  \n",
       "0   7.2500        S      1.0       0     1  \n",
       "1  71.2833        C      1.0       1     0  \n",
       "2   7.9250        S      0.0       1     0  \n",
       "3  53.1000        S      1.0       1     0  \n",
       "4   8.0500        S      1.0       0     1  "
      ]
     },
     "execution_count": 43,
     "metadata": {},
     "output_type": "execute_result"
    }
   ],
   "source": [
    "#for the 'sex' column\n",
    "\n",
    "td2 = td1.join(pd.get_dummies(td1['Sex']))\n",
    "\n",
    "td2.drop('Sex', axis=1, inplace=True)\n",
    "\n",
    "td2.head()"
   ]
  },
  {
   "cell_type": "code",
   "execution_count": 44,
   "metadata": {},
   "outputs": [],
   "source": [
    "#for the 'married' column\n",
    "\n",
    "td2 = td2.join(pd.get_dummies(td1['Married'], prefix='Married'))\n",
    "\n",
    "td2.drop('Married', axis=1, inplace=True)\n",
    "\n"
   ]
  },
  {
   "cell_type": "code",
   "execution_count": 45,
   "metadata": {},
   "outputs": [],
   "source": [
    "# for the 'Embarked' column\n",
    "\n",
    "td3 = td2.join(pd.get_dummies(td2['Embarked']))\n",
    "\n",
    "td3.drop('Embarked', axis=1, inplace=True)"
   ]
  },
  {
   "cell_type": "code",
   "execution_count": 46,
   "metadata": {
    "scrolled": true
   },
   "outputs": [
    {
     "data": {
      "text/html": [
       "<div>\n",
       "<style scoped>\n",
       "    .dataframe tbody tr th:only-of-type {\n",
       "        vertical-align: middle;\n",
       "    }\n",
       "\n",
       "    .dataframe tbody tr th {\n",
       "        vertical-align: top;\n",
       "    }\n",
       "\n",
       "    .dataframe thead th {\n",
       "        text-align: right;\n",
       "    }\n",
       "</style>\n",
       "<table border=\"1\" class=\"dataframe\">\n",
       "  <thead>\n",
       "    <tr style=\"text-align: right;\">\n",
       "      <th></th>\n",
       "      <th>PassengerId</th>\n",
       "      <th>Survived</th>\n",
       "      <th>Pclass</th>\n",
       "      <th>Age</th>\n",
       "      <th>SibSp</th>\n",
       "      <th>Parch</th>\n",
       "      <th>Ticket</th>\n",
       "      <th>Fare</th>\n",
       "      <th>female</th>\n",
       "      <th>male</th>\n",
       "      <th>Married_0.0</th>\n",
       "      <th>Married_1.0</th>\n",
       "      <th>C</th>\n",
       "      <th>Q</th>\n",
       "      <th>S</th>\n",
       "    </tr>\n",
       "  </thead>\n",
       "  <tbody>\n",
       "    <tr>\n",
       "      <th>0</th>\n",
       "      <td>1</td>\n",
       "      <td>0</td>\n",
       "      <td>3</td>\n",
       "      <td>22.0</td>\n",
       "      <td>1</td>\n",
       "      <td>0</td>\n",
       "      <td>A/5 21171</td>\n",
       "      <td>7.2500</td>\n",
       "      <td>0</td>\n",
       "      <td>1</td>\n",
       "      <td>0</td>\n",
       "      <td>1</td>\n",
       "      <td>0</td>\n",
       "      <td>0</td>\n",
       "      <td>1</td>\n",
       "    </tr>\n",
       "    <tr>\n",
       "      <th>1</th>\n",
       "      <td>2</td>\n",
       "      <td>1</td>\n",
       "      <td>1</td>\n",
       "      <td>38.0</td>\n",
       "      <td>1</td>\n",
       "      <td>0</td>\n",
       "      <td>PC 17599</td>\n",
       "      <td>71.2833</td>\n",
       "      <td>1</td>\n",
       "      <td>0</td>\n",
       "      <td>0</td>\n",
       "      <td>1</td>\n",
       "      <td>1</td>\n",
       "      <td>0</td>\n",
       "      <td>0</td>\n",
       "    </tr>\n",
       "    <tr>\n",
       "      <th>2</th>\n",
       "      <td>3</td>\n",
       "      <td>1</td>\n",
       "      <td>3</td>\n",
       "      <td>26.0</td>\n",
       "      <td>0</td>\n",
       "      <td>0</td>\n",
       "      <td>STON/O2. 3101282</td>\n",
       "      <td>7.9250</td>\n",
       "      <td>1</td>\n",
       "      <td>0</td>\n",
       "      <td>1</td>\n",
       "      <td>0</td>\n",
       "      <td>0</td>\n",
       "      <td>0</td>\n",
       "      <td>1</td>\n",
       "    </tr>\n",
       "    <tr>\n",
       "      <th>3</th>\n",
       "      <td>4</td>\n",
       "      <td>1</td>\n",
       "      <td>1</td>\n",
       "      <td>35.0</td>\n",
       "      <td>1</td>\n",
       "      <td>0</td>\n",
       "      <td>113803</td>\n",
       "      <td>53.1000</td>\n",
       "      <td>1</td>\n",
       "      <td>0</td>\n",
       "      <td>0</td>\n",
       "      <td>1</td>\n",
       "      <td>0</td>\n",
       "      <td>0</td>\n",
       "      <td>1</td>\n",
       "    </tr>\n",
       "    <tr>\n",
       "      <th>4</th>\n",
       "      <td>5</td>\n",
       "      <td>0</td>\n",
       "      <td>3</td>\n",
       "      <td>35.0</td>\n",
       "      <td>0</td>\n",
       "      <td>0</td>\n",
       "      <td>373450</td>\n",
       "      <td>8.0500</td>\n",
       "      <td>0</td>\n",
       "      <td>1</td>\n",
       "      <td>0</td>\n",
       "      <td>1</td>\n",
       "      <td>0</td>\n",
       "      <td>0</td>\n",
       "      <td>1</td>\n",
       "    </tr>\n",
       "  </tbody>\n",
       "</table>\n",
       "</div>"
      ],
      "text/plain": [
       "   PassengerId  Survived  Pclass   Age  SibSp  Parch            Ticket  \\\n",
       "0            1         0       3  22.0      1      0         A/5 21171   \n",
       "1            2         1       1  38.0      1      0          PC 17599   \n",
       "2            3         1       3  26.0      0      0  STON/O2. 3101282   \n",
       "3            4         1       1  35.0      1      0            113803   \n",
       "4            5         0       3  35.0      0      0            373450   \n",
       "\n",
       "      Fare  female  male  Married_0.0  Married_1.0  C  Q  S  \n",
       "0   7.2500       0     1            0            1  0  0  1  \n",
       "1  71.2833       1     0            0            1  1  0  0  \n",
       "2   7.9250       1     0            1            0  0  0  1  \n",
       "3  53.1000       1     0            0            1  0  0  1  \n",
       "4   8.0500       0     1            0            1  0  0  1  "
      ]
     },
     "execution_count": 46,
     "metadata": {},
     "output_type": "execute_result"
    }
   ],
   "source": [
    "td3.head()"
   ]
  },
  {
   "cell_type": "markdown",
   "metadata": {},
   "source": [
    "## Let's check if the ticket type affects the survival rate "
   ]
  },
  {
   "cell_type": "code",
   "execution_count": 48,
   "metadata": {},
   "outputs": [],
   "source": [
    "#td3.groupby(['Survived', 'Ticket'])['Fare'].mean()"
   ]
  },
  {
   "cell_type": "markdown",
   "metadata": {},
   "source": [
    "There seems to be a correlation between the type of ticket and survival rate. Individuals with letters in their ticket name had a survival rate greater than other individuals. This might indicate that these individuals with these letters in their ticket names are crew on the deck or special envoys.  "
   ]
  },
  {
   "cell_type": "code",
   "execution_count": 49,
   "metadata": {},
   "outputs": [],
   "source": [
    "# Let's create a new column to indicate the passengers which have a special character in their ticket type\n",
    "\n",
    "td3.loc[td3['Ticket'].str.contains('[a-zA-Z]'), 'Special_Ticket'] = 1\n",
    "td3['Special_Ticket'].fillna(0, inplace=True)\n"
   ]
  },
  {
   "cell_type": "code",
   "execution_count": 50,
   "metadata": {},
   "outputs": [],
   "source": [
    "td3.drop('Ticket', axis=1, inplace=True)"
   ]
  },
  {
   "cell_type": "code",
   "execution_count": 51,
   "metadata": {},
   "outputs": [],
   "source": [
    "td3 = td3.join(pd.get_dummies(td3['Special_Ticket'], prefix='Special_Ticket'))"
   ]
  },
  {
   "cell_type": "code",
   "execution_count": 52,
   "metadata": {},
   "outputs": [],
   "source": [
    "td3.drop('Special_Ticket', axis=1, inplace=True)"
   ]
  },
  {
   "cell_type": "code",
   "execution_count": 53,
   "metadata": {},
   "outputs": [
    {
     "data": {
      "text/html": [
       "<div>\n",
       "<style scoped>\n",
       "    .dataframe tbody tr th:only-of-type {\n",
       "        vertical-align: middle;\n",
       "    }\n",
       "\n",
       "    .dataframe tbody tr th {\n",
       "        vertical-align: top;\n",
       "    }\n",
       "\n",
       "    .dataframe thead th {\n",
       "        text-align: right;\n",
       "    }\n",
       "</style>\n",
       "<table border=\"1\" class=\"dataframe\">\n",
       "  <thead>\n",
       "    <tr style=\"text-align: right;\">\n",
       "      <th></th>\n",
       "      <th>PassengerId</th>\n",
       "      <th>Survived</th>\n",
       "      <th>Pclass</th>\n",
       "      <th>Age</th>\n",
       "      <th>SibSp</th>\n",
       "      <th>Parch</th>\n",
       "      <th>Fare</th>\n",
       "      <th>female</th>\n",
       "      <th>male</th>\n",
       "      <th>Married_0.0</th>\n",
       "      <th>Married_1.0</th>\n",
       "      <th>C</th>\n",
       "      <th>Q</th>\n",
       "      <th>S</th>\n",
       "      <th>Special_Ticket_0.0</th>\n",
       "      <th>Special_Ticket_1.0</th>\n",
       "    </tr>\n",
       "  </thead>\n",
       "  <tbody>\n",
       "    <tr>\n",
       "      <th>0</th>\n",
       "      <td>1</td>\n",
       "      <td>0</td>\n",
       "      <td>3</td>\n",
       "      <td>22.0</td>\n",
       "      <td>1</td>\n",
       "      <td>0</td>\n",
       "      <td>7.2500</td>\n",
       "      <td>0</td>\n",
       "      <td>1</td>\n",
       "      <td>0</td>\n",
       "      <td>1</td>\n",
       "      <td>0</td>\n",
       "      <td>0</td>\n",
       "      <td>1</td>\n",
       "      <td>0</td>\n",
       "      <td>1</td>\n",
       "    </tr>\n",
       "    <tr>\n",
       "      <th>1</th>\n",
       "      <td>2</td>\n",
       "      <td>1</td>\n",
       "      <td>1</td>\n",
       "      <td>38.0</td>\n",
       "      <td>1</td>\n",
       "      <td>0</td>\n",
       "      <td>71.2833</td>\n",
       "      <td>1</td>\n",
       "      <td>0</td>\n",
       "      <td>0</td>\n",
       "      <td>1</td>\n",
       "      <td>1</td>\n",
       "      <td>0</td>\n",
       "      <td>0</td>\n",
       "      <td>0</td>\n",
       "      <td>1</td>\n",
       "    </tr>\n",
       "    <tr>\n",
       "      <th>2</th>\n",
       "      <td>3</td>\n",
       "      <td>1</td>\n",
       "      <td>3</td>\n",
       "      <td>26.0</td>\n",
       "      <td>0</td>\n",
       "      <td>0</td>\n",
       "      <td>7.9250</td>\n",
       "      <td>1</td>\n",
       "      <td>0</td>\n",
       "      <td>1</td>\n",
       "      <td>0</td>\n",
       "      <td>0</td>\n",
       "      <td>0</td>\n",
       "      <td>1</td>\n",
       "      <td>0</td>\n",
       "      <td>1</td>\n",
       "    </tr>\n",
       "    <tr>\n",
       "      <th>3</th>\n",
       "      <td>4</td>\n",
       "      <td>1</td>\n",
       "      <td>1</td>\n",
       "      <td>35.0</td>\n",
       "      <td>1</td>\n",
       "      <td>0</td>\n",
       "      <td>53.1000</td>\n",
       "      <td>1</td>\n",
       "      <td>0</td>\n",
       "      <td>0</td>\n",
       "      <td>1</td>\n",
       "      <td>0</td>\n",
       "      <td>0</td>\n",
       "      <td>1</td>\n",
       "      <td>1</td>\n",
       "      <td>0</td>\n",
       "    </tr>\n",
       "    <tr>\n",
       "      <th>4</th>\n",
       "      <td>5</td>\n",
       "      <td>0</td>\n",
       "      <td>3</td>\n",
       "      <td>35.0</td>\n",
       "      <td>0</td>\n",
       "      <td>0</td>\n",
       "      <td>8.0500</td>\n",
       "      <td>0</td>\n",
       "      <td>1</td>\n",
       "      <td>0</td>\n",
       "      <td>1</td>\n",
       "      <td>0</td>\n",
       "      <td>0</td>\n",
       "      <td>1</td>\n",
       "      <td>1</td>\n",
       "      <td>0</td>\n",
       "    </tr>\n",
       "  </tbody>\n",
       "</table>\n",
       "</div>"
      ],
      "text/plain": [
       "   PassengerId  Survived  Pclass   Age  SibSp  Parch     Fare  female  male  \\\n",
       "0            1         0       3  22.0      1      0   7.2500       0     1   \n",
       "1            2         1       1  38.0      1      0  71.2833       1     0   \n",
       "2            3         1       3  26.0      0      0   7.9250       1     0   \n",
       "3            4         1       1  35.0      1      0  53.1000       1     0   \n",
       "4            5         0       3  35.0      0      0   8.0500       0     1   \n",
       "\n",
       "   Married_0.0  Married_1.0  C  Q  S  Special_Ticket_0.0  Special_Ticket_1.0  \n",
       "0            0            1  0  0  1                   0                   1  \n",
       "1            0            1  1  0  0                   0                   1  \n",
       "2            1            0  0  0  1                   0                   1  \n",
       "3            0            1  0  0  1                   1                   0  \n",
       "4            0            1  0  0  1                   1                   0  "
      ]
     },
     "execution_count": 53,
     "metadata": {},
     "output_type": "execute_result"
    }
   ],
   "source": [
    "td3.head()"
   ]
  },
  {
   "cell_type": "code",
   "execution_count": 54,
   "metadata": {},
   "outputs": [
    {
     "data": {
      "text/plain": [
       "PassengerId           False\n",
       "Survived              False\n",
       "Pclass                False\n",
       "Age                   False\n",
       "SibSp                 False\n",
       "Parch                 False\n",
       "Fare                  False\n",
       "female                False\n",
       "male                  False\n",
       "Married_0.0           False\n",
       "Married_1.0           False\n",
       "C                     False\n",
       "Q                     False\n",
       "S                     False\n",
       "Special_Ticket_0.0    False\n",
       "Special_Ticket_1.0    False\n",
       "dtype: bool"
      ]
     },
     "execution_count": 54,
     "metadata": {},
     "output_type": "execute_result"
    }
   ],
   "source": [
    "td3.isnull().any()"
   ]
  },
  {
   "cell_type": "code",
   "execution_count": null,
   "metadata": {},
   "outputs": [],
   "source": [
    "#td3.groupby(['Survived', 'SibSp', 'Parch']).size()"
   ]
  },
  {
   "cell_type": "code",
   "execution_count": 55,
   "metadata": {},
   "outputs": [],
   "source": [
    "#let's drop passenger Id\n",
    "\n",
    "td3.drop('PassengerId', axis=1, inplace=True)"
   ]
  },
  {
   "cell_type": "code",
   "execution_count": 56,
   "metadata": {},
   "outputs": [
    {
     "data": {
      "text/html": [
       "<div>\n",
       "<style scoped>\n",
       "    .dataframe tbody tr th:only-of-type {\n",
       "        vertical-align: middle;\n",
       "    }\n",
       "\n",
       "    .dataframe tbody tr th {\n",
       "        vertical-align: top;\n",
       "    }\n",
       "\n",
       "    .dataframe thead th {\n",
       "        text-align: right;\n",
       "    }\n",
       "</style>\n",
       "<table border=\"1\" class=\"dataframe\">\n",
       "  <thead>\n",
       "    <tr style=\"text-align: right;\">\n",
       "      <th></th>\n",
       "      <th>Survived</th>\n",
       "      <th>Pclass</th>\n",
       "      <th>Age</th>\n",
       "      <th>SibSp</th>\n",
       "      <th>Parch</th>\n",
       "      <th>Fare</th>\n",
       "      <th>female</th>\n",
       "      <th>male</th>\n",
       "      <th>Married_0.0</th>\n",
       "      <th>Married_1.0</th>\n",
       "      <th>C</th>\n",
       "      <th>Q</th>\n",
       "      <th>S</th>\n",
       "      <th>Special_Ticket_0.0</th>\n",
       "      <th>Special_Ticket_1.0</th>\n",
       "    </tr>\n",
       "  </thead>\n",
       "  <tbody>\n",
       "    <tr>\n",
       "      <th>0</th>\n",
       "      <td>0</td>\n",
       "      <td>3</td>\n",
       "      <td>22.0</td>\n",
       "      <td>1</td>\n",
       "      <td>0</td>\n",
       "      <td>7.2500</td>\n",
       "      <td>0</td>\n",
       "      <td>1</td>\n",
       "      <td>0</td>\n",
       "      <td>1</td>\n",
       "      <td>0</td>\n",
       "      <td>0</td>\n",
       "      <td>1</td>\n",
       "      <td>0</td>\n",
       "      <td>1</td>\n",
       "    </tr>\n",
       "    <tr>\n",
       "      <th>1</th>\n",
       "      <td>1</td>\n",
       "      <td>1</td>\n",
       "      <td>38.0</td>\n",
       "      <td>1</td>\n",
       "      <td>0</td>\n",
       "      <td>71.2833</td>\n",
       "      <td>1</td>\n",
       "      <td>0</td>\n",
       "      <td>0</td>\n",
       "      <td>1</td>\n",
       "      <td>1</td>\n",
       "      <td>0</td>\n",
       "      <td>0</td>\n",
       "      <td>0</td>\n",
       "      <td>1</td>\n",
       "    </tr>\n",
       "    <tr>\n",
       "      <th>2</th>\n",
       "      <td>1</td>\n",
       "      <td>3</td>\n",
       "      <td>26.0</td>\n",
       "      <td>0</td>\n",
       "      <td>0</td>\n",
       "      <td>7.9250</td>\n",
       "      <td>1</td>\n",
       "      <td>0</td>\n",
       "      <td>1</td>\n",
       "      <td>0</td>\n",
       "      <td>0</td>\n",
       "      <td>0</td>\n",
       "      <td>1</td>\n",
       "      <td>0</td>\n",
       "      <td>1</td>\n",
       "    </tr>\n",
       "    <tr>\n",
       "      <th>3</th>\n",
       "      <td>1</td>\n",
       "      <td>1</td>\n",
       "      <td>35.0</td>\n",
       "      <td>1</td>\n",
       "      <td>0</td>\n",
       "      <td>53.1000</td>\n",
       "      <td>1</td>\n",
       "      <td>0</td>\n",
       "      <td>0</td>\n",
       "      <td>1</td>\n",
       "      <td>0</td>\n",
       "      <td>0</td>\n",
       "      <td>1</td>\n",
       "      <td>1</td>\n",
       "      <td>0</td>\n",
       "    </tr>\n",
       "    <tr>\n",
       "      <th>4</th>\n",
       "      <td>0</td>\n",
       "      <td>3</td>\n",
       "      <td>35.0</td>\n",
       "      <td>0</td>\n",
       "      <td>0</td>\n",
       "      <td>8.0500</td>\n",
       "      <td>0</td>\n",
       "      <td>1</td>\n",
       "      <td>0</td>\n",
       "      <td>1</td>\n",
       "      <td>0</td>\n",
       "      <td>0</td>\n",
       "      <td>1</td>\n",
       "      <td>1</td>\n",
       "      <td>0</td>\n",
       "    </tr>\n",
       "  </tbody>\n",
       "</table>\n",
       "</div>"
      ],
      "text/plain": [
       "   Survived  Pclass   Age  SibSp  Parch     Fare  female  male  Married_0.0  \\\n",
       "0         0       3  22.0      1      0   7.2500       0     1            0   \n",
       "1         1       1  38.0      1      0  71.2833       1     0            0   \n",
       "2         1       3  26.0      0      0   7.9250       1     0            1   \n",
       "3         1       1  35.0      1      0  53.1000       1     0            0   \n",
       "4         0       3  35.0      0      0   8.0500       0     1            0   \n",
       "\n",
       "   Married_1.0  C  Q  S  Special_Ticket_0.0  Special_Ticket_1.0  \n",
       "0            1  0  0  1                   0                   1  \n",
       "1            1  1  0  0                   0                   1  \n",
       "2            0  0  0  1                   0                   1  \n",
       "3            1  0  0  1                   1                   0  \n",
       "4            1  0  0  1                   1                   0  "
      ]
     },
     "execution_count": 56,
     "metadata": {},
     "output_type": "execute_result"
    }
   ],
   "source": [
    "td3.head()"
   ]
  },
  {
   "cell_type": "code",
   "execution_count": 57,
   "metadata": {},
   "outputs": [],
   "source": [
    "Titanic = td3"
   ]
  },
  {
   "cell_type": "code",
   "execution_count": 58,
   "metadata": {},
   "outputs": [],
   "source": [
    "from sklearn.model_selection import train_test_split"
   ]
  },
  {
   "cell_type": "code",
   "execution_count": 59,
   "metadata": {},
   "outputs": [],
   "source": [
    "Train, Test = train_test_split(Titanic, test_size=0.2, random_state=42)"
   ]
  },
  {
   "cell_type": "code",
   "execution_count": 60,
   "metadata": {},
   "outputs": [
    {
     "data": {
      "text/plain": [
       "((712, 15), (179, 15))"
      ]
     },
     "execution_count": 60,
     "metadata": {},
     "output_type": "execute_result"
    }
   ],
   "source": [
    "Train.shape, Test.shape"
   ]
  },
  {
   "cell_type": "markdown",
   "metadata": {},
   "source": [
    "Working with our training data "
   ]
  },
  {
   "cell_type": "code",
   "execution_count": 61,
   "metadata": {},
   "outputs": [],
   "source": [
    "#Let's define our features and Label\n",
    "\n",
    "X = Train.drop('Survived', axis=1)\n",
    "y = Train['Survived'].copy()"
   ]
  },
  {
   "cell_type": "markdown",
   "metadata": {},
   "source": [
    "## K-Nearest Neighbour"
   ]
  },
  {
   "cell_type": "code",
   "execution_count": 66,
   "metadata": {},
   "outputs": [],
   "source": [
    "from sklearn.neighbors import KNeighborsClassifier\n",
    "\n",
    "from sklearn.preprocessing import StandardScaler\n",
    "\n",
    "from sklearn import metrics"
   ]
  },
  {
   "cell_type": "code",
   "execution_count": 67,
   "metadata": {},
   "outputs": [],
   "source": [
    "X_train, X_test, y_train, y_test = train_test_split(X, y, test_size=0.2, random_state=42 )"
   ]
  },
  {
   "cell_type": "code",
   "execution_count": 68,
   "metadata": {},
   "outputs": [],
   "source": [
    "scaler = StandardScaler()\n",
    "\n",
    "X_test = scaler.fit_transform(X_test)\n",
    "\n",
    "X_train = scaler.fit_transform(X_train)\n",
    "\n"
   ]
  },
  {
   "cell_type": "code",
   "execution_count": 115,
   "metadata": {},
   "outputs": [
    {
     "data": {
      "text/plain": [
       "KNeighborsClassifier(algorithm='auto', leaf_size=30, metric='minkowski',\n",
       "                     metric_params=None, n_jobs=None, n_neighbors=5, p=2,\n",
       "                     weights='uniform')"
      ]
     },
     "execution_count": 115,
     "metadata": {},
     "output_type": "execute_result"
    }
   ],
   "source": [
    "knn = KNeighborsClassifier(n_neighbors=5)\n",
    "\n",
    "knn.fit(X_train, y_train)"
   ]
  },
  {
   "cell_type": "code",
   "execution_count": 116,
   "metadata": {},
   "outputs": [
    {
     "name": "stdout",
     "output_type": "stream",
     "text": [
      "Train set Accuracy:  0.8629173989455184\n",
      "Test set Accuracy:  0.7832167832167832\n"
     ]
    }
   ],
   "source": [
    "print(\"Train set Accuracy: \", metrics.accuracy_score(y_train, knn.predict(X_train)))\n",
    "\n",
    "print(\"Test set Accuracy: \", metrics.accuracy_score(y_test, knn.predict(X_test)))\n"
   ]
  },
  {
   "cell_type": "markdown",
   "metadata": {},
   "source": [
    "## Decision Tree"
   ]
  },
  {
   "cell_type": "code",
   "execution_count": 76,
   "metadata": {},
   "outputs": [],
   "source": [
    "from sklearn.tree import DecisionTreeClassifier\n",
    "from sklearn.tree import export_graphviz\n",
    "import graphviz"
   ]
  },
  {
   "cell_type": "code",
   "execution_count": 73,
   "metadata": {},
   "outputs": [],
   "source": [
    "X_trainer, X_tester, y_trainer, y_tester = train_test_split(X, y, test_size=0.2, random_state=42 )"
   ]
  },
  {
   "cell_type": "code",
   "execution_count": 74,
   "metadata": {},
   "outputs": [
    {
     "data": {
      "text/plain": [
       "DecisionTreeClassifier(class_weight=None, criterion='entropy', max_depth=5,\n",
       "                       max_features=None, max_leaf_nodes=None,\n",
       "                       min_impurity_decrease=0.0, min_impurity_split=None,\n",
       "                       min_samples_leaf=1, min_samples_split=2,\n",
       "                       min_weight_fraction_leaf=0.0, presort=False,\n",
       "                       random_state=None, splitter='best')"
      ]
     },
     "execution_count": 74,
     "metadata": {},
     "output_type": "execute_result"
    }
   ],
   "source": [
    "tree_clf = DecisionTreeClassifier(criterion='entropy', max_depth=5)\n",
    "tree_clf.fit(X_trainer, y_trainer)"
   ]
  },
  {
   "cell_type": "code",
   "execution_count": 75,
   "metadata": {},
   "outputs": [
    {
     "name": "stdout",
     "output_type": "stream",
     "text": [
      "Train set Accuracy:  0.8453427065026362\n",
      "Test set Accuracy:  0.8531468531468531\n"
     ]
    }
   ],
   "source": [
    "print(\"Train set Accuracy: \", metrics.accuracy_score(y_train, tree_clf.predict(X_trainer)))\n",
    "\n",
    "print(\"Test set Accuracy: \", metrics.accuracy_score(y_test, tree_clf.predict(X_tester)))\n"
   ]
  },
  {
   "cell_type": "code",
   "execution_count": 77,
   "metadata": {},
   "outputs": [],
   "source": [
    "fname = X.columns.tolist()\n",
    "classed = str(Train['Survived'].unique().tolist())\n",
    "c_names = ['Died', 'survived']"
   ]
  },
  {
   "cell_type": "code",
   "execution_count": 78,
   "metadata": {
    "scrolled": true
   },
   "outputs": [],
   "source": [
    "dot_data = export_graphviz(tree_clf,\n",
    "               out_file= None,\n",
    "               feature_names=fname,\n",
    "                class_names= c_names, \n",
    "                rounded=True,\n",
    "                filled=True)"
   ]
  },
  {
   "cell_type": "code",
   "execution_count": 79,
   "metadata": {},
   "outputs": [
    {
     "data": {
      "image/svg+xml": [
       "<?xml version=\"1.0\" encoding=\"UTF-8\" standalone=\"no\"?>\r\n",
       "<!DOCTYPE svg PUBLIC \"-//W3C//DTD SVG 1.1//EN\"\r\n",
       " \"http://www.w3.org/Graphics/SVG/1.1/DTD/svg11.dtd\">\r\n",
       "<!-- Generated by graphviz version 2.38.0 (20140413.2041)\r\n",
       " -->\r\n",
       "<!-- Title: Tree Pages: 1 -->\r\n",
       "<svg width=\"2303pt\" height=\"671pt\"\r\n",
       " viewBox=\"0.00 0.00 2303.00 671.00\" xmlns=\"http://www.w3.org/2000/svg\" xmlns:xlink=\"http://www.w3.org/1999/xlink\">\r\n",
       "<g id=\"graph0\" class=\"graph\" transform=\"scale(1 1) rotate(0) translate(4 667)\">\r\n",
       "<title>Tree</title>\r\n",
       "<polygon fill=\"white\" stroke=\"none\" points=\"-4,4 -4,-667 2299,-667 2299,4 -4,4\"/>\r\n",
       "<!-- 0 -->\r\n",
       "<g id=\"node1\" class=\"node\"><title>0</title>\r\n",
       "<path fill=\"#f4ccaf\" stroke=\"black\" d=\"M883,-663C883,-663 777,-663 777,-663 771,-663 765,-657 765,-651 765,-651 765,-592 765,-592 765,-586 771,-580 777,-580 777,-580 883,-580 883,-580 889,-580 895,-586 895,-592 895,-592 895,-651 895,-651 895,-657 889,-663 883,-663\"/>\r\n",
       "<text text-anchor=\"middle\" x=\"830\" y=\"-647.8\" font-family=\"Helvetica,sans-Serif\" font-size=\"14.00\">female &lt;= 0.5</text>\r\n",
       "<text text-anchor=\"middle\" x=\"830\" y=\"-632.8\" font-family=\"Helvetica,sans-Serif\" font-size=\"14.00\">entropy = 0.953</text>\r\n",
       "<text text-anchor=\"middle\" x=\"830\" y=\"-617.8\" font-family=\"Helvetica,sans-Serif\" font-size=\"14.00\">samples = 569</text>\r\n",
       "<text text-anchor=\"middle\" x=\"830\" y=\"-602.8\" font-family=\"Helvetica,sans-Serif\" font-size=\"14.00\">value = [357, 212]</text>\r\n",
       "<text text-anchor=\"middle\" x=\"830\" y=\"-587.8\" font-family=\"Helvetica,sans-Serif\" font-size=\"14.00\">class = Died</text>\r\n",
       "</g>\r\n",
       "<!-- 1 -->\r\n",
       "<g id=\"node2\" class=\"node\"><title>1</title>\r\n",
       "<path fill=\"#eb9f68\" stroke=\"black\" d=\"M610,-544C610,-544 512,-544 512,-544 506,-544 500,-538 500,-532 500,-532 500,-473 500,-473 500,-467 506,-461 512,-461 512,-461 610,-461 610,-461 616,-461 622,-467 622,-473 622,-473 622,-532 622,-532 622,-538 616,-544 610,-544\"/>\r\n",
       "<text text-anchor=\"middle\" x=\"561\" y=\"-528.8\" font-family=\"Helvetica,sans-Serif\" font-size=\"14.00\">Age &lt;= 6.5</text>\r\n",
       "<text text-anchor=\"middle\" x=\"561\" y=\"-513.8\" font-family=\"Helvetica,sans-Serif\" font-size=\"14.00\">entropy = 0.705</text>\r\n",
       "<text text-anchor=\"middle\" x=\"561\" y=\"-498.8\" font-family=\"Helvetica,sans-Serif\" font-size=\"14.00\">samples = 376</text>\r\n",
       "<text text-anchor=\"middle\" x=\"561\" y=\"-483.8\" font-family=\"Helvetica,sans-Serif\" font-size=\"14.00\">value = [304, 72]</text>\r\n",
       "<text text-anchor=\"middle\" x=\"561\" y=\"-468.8\" font-family=\"Helvetica,sans-Serif\" font-size=\"14.00\">class = Died</text>\r\n",
       "</g>\r\n",
       "<!-- 0&#45;&gt;1 -->\r\n",
       "<g id=\"edge1\" class=\"edge\"><title>0&#45;&gt;1</title>\r\n",
       "<path fill=\"none\" stroke=\"black\" d=\"M764.883,-592.178C724.551,-574.636 672.757,-552.108 631.466,-534.149\"/>\r\n",
       "<polygon fill=\"black\" stroke=\"black\" points=\"632.854,-530.936 622.287,-530.157 630.062,-537.355 632.854,-530.936\"/>\r\n",
       "<text text-anchor=\"middle\" x=\"631.447\" y=\"-549.718\" font-family=\"Helvetica,sans-Serif\" font-size=\"14.00\">True</text>\r\n",
       "</g>\r\n",
       "<!-- 20 -->\r\n",
       "<g id=\"node21\" class=\"node\"><title>20</title>\r\n",
       "<path fill=\"#84c2ef\" stroke=\"black\" d=\"M1148,-544C1148,-544 1050,-544 1050,-544 1044,-544 1038,-538 1038,-532 1038,-532 1038,-473 1038,-473 1038,-467 1044,-461 1050,-461 1050,-461 1148,-461 1148,-461 1154,-461 1160,-467 1160,-473 1160,-473 1160,-532 1160,-532 1160,-538 1154,-544 1148,-544\"/>\r\n",
       "<text text-anchor=\"middle\" x=\"1099\" y=\"-528.8\" font-family=\"Helvetica,sans-Serif\" font-size=\"14.00\">Pclass &lt;= 2.5</text>\r\n",
       "<text text-anchor=\"middle\" x=\"1099\" y=\"-513.8\" font-family=\"Helvetica,sans-Serif\" font-size=\"14.00\">entropy = 0.848</text>\r\n",
       "<text text-anchor=\"middle\" x=\"1099\" y=\"-498.8\" font-family=\"Helvetica,sans-Serif\" font-size=\"14.00\">samples = 193</text>\r\n",
       "<text text-anchor=\"middle\" x=\"1099\" y=\"-483.8\" font-family=\"Helvetica,sans-Serif\" font-size=\"14.00\">value = [53, 140]</text>\r\n",
       "<text text-anchor=\"middle\" x=\"1099\" y=\"-468.8\" font-family=\"Helvetica,sans-Serif\" font-size=\"14.00\">class = survived</text>\r\n",
       "</g>\r\n",
       "<!-- 0&#45;&gt;20 -->\r\n",
       "<g id=\"edge20\" class=\"edge\"><title>0&#45;&gt;20</title>\r\n",
       "<path fill=\"none\" stroke=\"black\" d=\"M895.117,-592.178C935.449,-574.636 987.243,-552.108 1028.53,-534.149\"/>\r\n",
       "<polygon fill=\"black\" stroke=\"black\" points=\"1029.94,-537.355 1037.71,-530.157 1027.15,-530.936 1029.94,-537.355\"/>\r\n",
       "<text text-anchor=\"middle\" x=\"1028.55\" y=\"-549.718\" font-family=\"Helvetica,sans-Serif\" font-size=\"14.00\">False</text>\r\n",
       "</g>\r\n",
       "<!-- 2 -->\r\n",
       "<g id=\"node3\" class=\"node\"><title>2</title>\r\n",
       "<path fill=\"#72b9ec\" stroke=\"black\" d=\"M241,-425C241,-425 147,-425 147,-425 141,-425 135,-419 135,-413 135,-413 135,-354 135,-354 135,-348 141,-342 147,-342 147,-342 241,-342 241,-342 247,-342 253,-348 253,-354 253,-354 253,-413 253,-413 253,-419 247,-425 241,-425\"/>\r\n",
       "<text text-anchor=\"middle\" x=\"194\" y=\"-409.8\" font-family=\"Helvetica,sans-Serif\" font-size=\"14.00\">SibSp &lt;= 2.5</text>\r\n",
       "<text text-anchor=\"middle\" x=\"194\" y=\"-394.8\" font-family=\"Helvetica,sans-Serif\" font-size=\"14.00\">entropy = 0.764</text>\r\n",
       "<text text-anchor=\"middle\" x=\"194\" y=\"-379.8\" font-family=\"Helvetica,sans-Serif\" font-size=\"14.00\">samples = 18</text>\r\n",
       "<text text-anchor=\"middle\" x=\"194\" y=\"-364.8\" font-family=\"Helvetica,sans-Serif\" font-size=\"14.00\">value = [4, 14]</text>\r\n",
       "<text text-anchor=\"middle\" x=\"194\" y=\"-349.8\" font-family=\"Helvetica,sans-Serif\" font-size=\"14.00\">class = survived</text>\r\n",
       "</g>\r\n",
       "<!-- 1&#45;&gt;2 -->\r\n",
       "<g id=\"edge2\" class=\"edge\"><title>1&#45;&gt;2</title>\r\n",
       "<path fill=\"none\" stroke=\"black\" d=\"M499.985,-482.048C434.614,-461.208 331.073,-428.199 262.835,-406.445\"/>\r\n",
       "<polygon fill=\"black\" stroke=\"black\" points=\"263.623,-403.022 253.032,-403.32 261.497,-409.692 263.623,-403.022\"/>\r\n",
       "</g>\r\n",
       "<!-- 9 -->\r\n",
       "<g id=\"node10\" class=\"node\"><title>9</title>\r\n",
       "<path fill=\"#ea995f\" stroke=\"black\" d=\"M610,-425C610,-425 512,-425 512,-425 506,-425 500,-419 500,-413 500,-413 500,-354 500,-354 500,-348 506,-342 512,-342 512,-342 610,-342 610,-342 616,-342 622,-348 622,-354 622,-354 622,-413 622,-413 622,-419 616,-425 610,-425\"/>\r\n",
       "<text text-anchor=\"middle\" x=\"561\" y=\"-409.8\" font-family=\"Helvetica,sans-Serif\" font-size=\"14.00\">Fare &lt;= 26.269</text>\r\n",
       "<text text-anchor=\"middle\" x=\"561\" y=\"-394.8\" font-family=\"Helvetica,sans-Serif\" font-size=\"14.00\">entropy = 0.639</text>\r\n",
       "<text text-anchor=\"middle\" x=\"561\" y=\"-379.8\" font-family=\"Helvetica,sans-Serif\" font-size=\"14.00\">samples = 358</text>\r\n",
       "<text text-anchor=\"middle\" x=\"561\" y=\"-364.8\" font-family=\"Helvetica,sans-Serif\" font-size=\"14.00\">value = [300, 58]</text>\r\n",
       "<text text-anchor=\"middle\" x=\"561\" y=\"-349.8\" font-family=\"Helvetica,sans-Serif\" font-size=\"14.00\">class = Died</text>\r\n",
       "</g>\r\n",
       "<!-- 1&#45;&gt;9 -->\r\n",
       "<g id=\"edge9\" class=\"edge\"><title>1&#45;&gt;9</title>\r\n",
       "<path fill=\"none\" stroke=\"black\" d=\"M561,-460.907C561,-452.649 561,-443.864 561,-435.302\"/>\r\n",
       "<polygon fill=\"black\" stroke=\"black\" points=\"564.5,-435.021 561,-425.021 557.5,-435.021 564.5,-435.021\"/>\r\n",
       "</g>\r\n",
       "<!-- 3 -->\r\n",
       "<g id=\"node4\" class=\"node\"><title>3</title>\r\n",
       "<path fill=\"#399de5\" stroke=\"black\" d=\"M106,-298.5C106,-298.5 12,-298.5 12,-298.5 6,-298.5 0,-292.5 0,-286.5 0,-286.5 0,-242.5 0,-242.5 0,-236.5 6,-230.5 12,-230.5 12,-230.5 106,-230.5 106,-230.5 112,-230.5 118,-236.5 118,-242.5 118,-242.5 118,-286.5 118,-286.5 118,-292.5 112,-298.5 106,-298.5\"/>\r\n",
       "<text text-anchor=\"middle\" x=\"59\" y=\"-283.3\" font-family=\"Helvetica,sans-Serif\" font-size=\"14.00\">entropy = 0.0</text>\r\n",
       "<text text-anchor=\"middle\" x=\"59\" y=\"-268.3\" font-family=\"Helvetica,sans-Serif\" font-size=\"14.00\">samples = 13</text>\r\n",
       "<text text-anchor=\"middle\" x=\"59\" y=\"-253.3\" font-family=\"Helvetica,sans-Serif\" font-size=\"14.00\">value = [0, 13]</text>\r\n",
       "<text text-anchor=\"middle\" x=\"59\" y=\"-238.3\" font-family=\"Helvetica,sans-Serif\" font-size=\"14.00\">class = survived</text>\r\n",
       "</g>\r\n",
       "<!-- 2&#45;&gt;3 -->\r\n",
       "<g id=\"edge3\" class=\"edge\"><title>2&#45;&gt;3</title>\r\n",
       "<path fill=\"none\" stroke=\"black\" d=\"M147.162,-341.907C133.539,-330.101 118.673,-317.217 105.096,-305.45\"/>\r\n",
       "<polygon fill=\"black\" stroke=\"black\" points=\"107.119,-302.571 97.2695,-298.667 102.534,-307.861 107.119,-302.571\"/>\r\n",
       "</g>\r\n",
       "<!-- 4 -->\r\n",
       "<g id=\"node5\" class=\"node\"><title>4</title>\r\n",
       "<path fill=\"#eca06a\" stroke=\"black\" d=\"M240,-306C240,-306 148,-306 148,-306 142,-306 136,-300 136,-294 136,-294 136,-235 136,-235 136,-229 142,-223 148,-223 148,-223 240,-223 240,-223 246,-223 252,-229 252,-235 252,-235 252,-294 252,-294 252,-300 246,-306 240,-306\"/>\r\n",
       "<text text-anchor=\"middle\" x=\"194\" y=\"-290.8\" font-family=\"Helvetica,sans-Serif\" font-size=\"14.00\">Age &lt;= 2.5</text>\r\n",
       "<text text-anchor=\"middle\" x=\"194\" y=\"-275.8\" font-family=\"Helvetica,sans-Serif\" font-size=\"14.00\">entropy = 0.722</text>\r\n",
       "<text text-anchor=\"middle\" x=\"194\" y=\"-260.8\" font-family=\"Helvetica,sans-Serif\" font-size=\"14.00\">samples = 5</text>\r\n",
       "<text text-anchor=\"middle\" x=\"194\" y=\"-245.8\" font-family=\"Helvetica,sans-Serif\" font-size=\"14.00\">value = [4, 1]</text>\r\n",
       "<text text-anchor=\"middle\" x=\"194\" y=\"-230.8\" font-family=\"Helvetica,sans-Serif\" font-size=\"14.00\">class = Died</text>\r\n",
       "</g>\r\n",
       "<!-- 2&#45;&gt;4 -->\r\n",
       "<g id=\"edge4\" class=\"edge\"><title>2&#45;&gt;4</title>\r\n",
       "<path fill=\"none\" stroke=\"black\" d=\"M194,-341.907C194,-333.649 194,-324.864 194,-316.302\"/>\r\n",
       "<polygon fill=\"black\" stroke=\"black\" points=\"197.5,-316.021 194,-306.021 190.5,-316.021 197.5,-316.021\"/>\r\n",
       "</g>\r\n",
       "<!-- 5 -->\r\n",
       "<g id=\"node6\" class=\"node\"><title>5</title>\r\n",
       "<path fill=\"#e58139\" stroke=\"black\" d=\"M114,-179.5C114,-179.5 38,-179.5 38,-179.5 32,-179.5 26,-173.5 26,-167.5 26,-167.5 26,-123.5 26,-123.5 26,-117.5 32,-111.5 38,-111.5 38,-111.5 114,-111.5 114,-111.5 120,-111.5 126,-117.5 126,-123.5 126,-123.5 126,-167.5 126,-167.5 126,-173.5 120,-179.5 114,-179.5\"/>\r\n",
       "<text text-anchor=\"middle\" x=\"76\" y=\"-164.3\" font-family=\"Helvetica,sans-Serif\" font-size=\"14.00\">entropy = 0.0</text>\r\n",
       "<text text-anchor=\"middle\" x=\"76\" y=\"-149.3\" font-family=\"Helvetica,sans-Serif\" font-size=\"14.00\">samples = 3</text>\r\n",
       "<text text-anchor=\"middle\" x=\"76\" y=\"-134.3\" font-family=\"Helvetica,sans-Serif\" font-size=\"14.00\">value = [3, 0]</text>\r\n",
       "<text text-anchor=\"middle\" x=\"76\" y=\"-119.3\" font-family=\"Helvetica,sans-Serif\" font-size=\"14.00\">class = Died</text>\r\n",
       "</g>\r\n",
       "<!-- 4&#45;&gt;5 -->\r\n",
       "<g id=\"edge5\" class=\"edge\"><title>4&#45;&gt;5</title>\r\n",
       "<path fill=\"none\" stroke=\"black\" d=\"M153.06,-222.907C141.264,-211.211 128.401,-198.457 116.624,-186.78\"/>\r\n",
       "<polygon fill=\"black\" stroke=\"black\" points=\"119.016,-184.222 109.45,-179.667 114.087,-189.193 119.016,-184.222\"/>\r\n",
       "</g>\r\n",
       "<!-- 6 -->\r\n",
       "<g id=\"node7\" class=\"node\"><title>6</title>\r\n",
       "<path fill=\"#ffffff\" stroke=\"black\" d=\"M232,-187C232,-187 156,-187 156,-187 150,-187 144,-181 144,-175 144,-175 144,-116 144,-116 144,-110 150,-104 156,-104 156,-104 232,-104 232,-104 238,-104 244,-110 244,-116 244,-116 244,-175 244,-175 244,-181 238,-187 232,-187\"/>\r\n",
       "<text text-anchor=\"middle\" x=\"194\" y=\"-171.8\" font-family=\"Helvetica,sans-Serif\" font-size=\"14.00\">Age &lt;= 3.5</text>\r\n",
       "<text text-anchor=\"middle\" x=\"194\" y=\"-156.8\" font-family=\"Helvetica,sans-Serif\" font-size=\"14.00\">entropy = 1.0</text>\r\n",
       "<text text-anchor=\"middle\" x=\"194\" y=\"-141.8\" font-family=\"Helvetica,sans-Serif\" font-size=\"14.00\">samples = 2</text>\r\n",
       "<text text-anchor=\"middle\" x=\"194\" y=\"-126.8\" font-family=\"Helvetica,sans-Serif\" font-size=\"14.00\">value = [1, 1]</text>\r\n",
       "<text text-anchor=\"middle\" x=\"194\" y=\"-111.8\" font-family=\"Helvetica,sans-Serif\" font-size=\"14.00\">class = Died</text>\r\n",
       "</g>\r\n",
       "<!-- 4&#45;&gt;6 -->\r\n",
       "<g id=\"edge6\" class=\"edge\"><title>4&#45;&gt;6</title>\r\n",
       "<path fill=\"none\" stroke=\"black\" d=\"M194,-222.907C194,-214.649 194,-205.864 194,-197.302\"/>\r\n",
       "<polygon fill=\"black\" stroke=\"black\" points=\"197.5,-197.021 194,-187.021 190.5,-197.021 197.5,-197.021\"/>\r\n",
       "</g>\r\n",
       "<!-- 7 -->\r\n",
       "<g id=\"node8\" class=\"node\"><title>7</title>\r\n",
       "<path fill=\"#399de5\" stroke=\"black\" d=\"M121,-68C121,-68 27,-68 27,-68 21,-68 15,-62 15,-56 15,-56 15,-12 15,-12 15,-6 21,-0 27,-0 27,-0 121,-0 121,-0 127,-0 133,-6 133,-12 133,-12 133,-56 133,-56 133,-62 127,-68 121,-68\"/>\r\n",
       "<text text-anchor=\"middle\" x=\"74\" y=\"-52.8\" font-family=\"Helvetica,sans-Serif\" font-size=\"14.00\">entropy = 0.0</text>\r\n",
       "<text text-anchor=\"middle\" x=\"74\" y=\"-37.8\" font-family=\"Helvetica,sans-Serif\" font-size=\"14.00\">samples = 1</text>\r\n",
       "<text text-anchor=\"middle\" x=\"74\" y=\"-22.8\" font-family=\"Helvetica,sans-Serif\" font-size=\"14.00\">value = [0, 1]</text>\r\n",
       "<text text-anchor=\"middle\" x=\"74\" y=\"-7.8\" font-family=\"Helvetica,sans-Serif\" font-size=\"14.00\">class = survived</text>\r\n",
       "</g>\r\n",
       "<!-- 6&#45;&gt;7 -->\r\n",
       "<g id=\"edge7\" class=\"edge\"><title>6&#45;&gt;7</title>\r\n",
       "<path fill=\"none\" stroke=\"black\" d=\"M149.316,-103.726C139.121,-94.423 128.293,-84.5428 118.122,-75.2612\"/>\r\n",
       "<polygon fill=\"black\" stroke=\"black\" points=\"120.239,-72.4547 110.493,-68.2996 115.52,-77.6255 120.239,-72.4547\"/>\r\n",
       "</g>\r\n",
       "<!-- 8 -->\r\n",
       "<g id=\"node9\" class=\"node\"><title>8</title>\r\n",
       "<path fill=\"#e58139\" stroke=\"black\" d=\"M239,-68C239,-68 163,-68 163,-68 157,-68 151,-62 151,-56 151,-56 151,-12 151,-12 151,-6 157,-0 163,-0 163,-0 239,-0 239,-0 245,-0 251,-6 251,-12 251,-12 251,-56 251,-56 251,-62 245,-68 239,-68\"/>\r\n",
       "<text text-anchor=\"middle\" x=\"201\" y=\"-52.8\" font-family=\"Helvetica,sans-Serif\" font-size=\"14.00\">entropy = 0.0</text>\r\n",
       "<text text-anchor=\"middle\" x=\"201\" y=\"-37.8\" font-family=\"Helvetica,sans-Serif\" font-size=\"14.00\">samples = 1</text>\r\n",
       "<text text-anchor=\"middle\" x=\"201\" y=\"-22.8\" font-family=\"Helvetica,sans-Serif\" font-size=\"14.00\">value = [1, 0]</text>\r\n",
       "<text text-anchor=\"middle\" x=\"201\" y=\"-7.8\" font-family=\"Helvetica,sans-Serif\" font-size=\"14.00\">class = Died</text>\r\n",
       "</g>\r\n",
       "<!-- 6&#45;&gt;8 -->\r\n",
       "<g id=\"edge8\" class=\"edge\"><title>6&#45;&gt;8</title>\r\n",
       "<path fill=\"none\" stroke=\"black\" d=\"M196.607,-103.726C197.137,-95.4263 197.697,-86.6671 198.233,-78.2834\"/>\r\n",
       "<polygon fill=\"black\" stroke=\"black\" points=\"201.726,-78.5025 198.871,-68.2996 194.74,-78.0559 201.726,-78.5025\"/>\r\n",
       "</g>\r\n",
       "<!-- 10 -->\r\n",
       "<g id=\"node11\" class=\"node\"><title>10</title>\r\n",
       "<path fill=\"#e88f50\" stroke=\"black\" d=\"M526,-306C526,-306 428,-306 428,-306 422,-306 416,-300 416,-294 416,-294 416,-235 416,-235 416,-229 422,-223 428,-223 428,-223 526,-223 526,-223 532,-223 538,-229 538,-235 538,-235 538,-294 538,-294 538,-300 532,-306 526,-306\"/>\r\n",
       "<text text-anchor=\"middle\" x=\"477\" y=\"-290.8\" font-family=\"Helvetica,sans-Serif\" font-size=\"14.00\">Fare &lt;= 7.133</text>\r\n",
       "<text text-anchor=\"middle\" x=\"477\" y=\"-275.8\" font-family=\"Helvetica,sans-Serif\" font-size=\"14.00\">entropy = 0.476</text>\r\n",
       "<text text-anchor=\"middle\" x=\"477\" y=\"-260.8\" font-family=\"Helvetica,sans-Serif\" font-size=\"14.00\">samples = 264</text>\r\n",
       "<text text-anchor=\"middle\" x=\"477\" y=\"-245.8\" font-family=\"Helvetica,sans-Serif\" font-size=\"14.00\">value = [237, 27]</text>\r\n",
       "<text text-anchor=\"middle\" x=\"477\" y=\"-230.8\" font-family=\"Helvetica,sans-Serif\" font-size=\"14.00\">class = Died</text>\r\n",
       "</g>\r\n",
       "<!-- 9&#45;&gt;10 -->\r\n",
       "<g id=\"edge10\" class=\"edge\"><title>9&#45;&gt;10</title>\r\n",
       "<path fill=\"none\" stroke=\"black\" d=\"M531.857,-341.907C525.471,-333.014 518.648,-323.509 512.058,-314.331\"/>\r\n",
       "<polygon fill=\"black\" stroke=\"black\" points=\"514.767,-312.103 506.092,-306.021 509.081,-316.185 514.767,-312.103\"/>\r\n",
       "</g>\r\n",
       "<!-- 15 -->\r\n",
       "<g id=\"node16\" class=\"node\"><title>15</title>\r\n",
       "<path fill=\"#f2bf9a\" stroke=\"black\" d=\"M691,-306C691,-306 599,-306 599,-306 593,-306 587,-300 587,-294 587,-294 587,-235 587,-235 587,-229 593,-223 599,-223 599,-223 691,-223 691,-223 697,-223 703,-229 703,-235 703,-235 703,-294 703,-294 703,-300 697,-306 691,-306\"/>\r\n",
       "<text text-anchor=\"middle\" x=\"645\" y=\"-290.8\" font-family=\"Helvetica,sans-Serif\" font-size=\"14.00\">SibSp &lt;= 2.5</text>\r\n",
       "<text text-anchor=\"middle\" x=\"645\" y=\"-275.8\" font-family=\"Helvetica,sans-Serif\" font-size=\"14.00\">entropy = 0.915</text>\r\n",
       "<text text-anchor=\"middle\" x=\"645\" y=\"-260.8\" font-family=\"Helvetica,sans-Serif\" font-size=\"14.00\">samples = 94</text>\r\n",
       "<text text-anchor=\"middle\" x=\"645\" y=\"-245.8\" font-family=\"Helvetica,sans-Serif\" font-size=\"14.00\">value = [63, 31]</text>\r\n",
       "<text text-anchor=\"middle\" x=\"645\" y=\"-230.8\" font-family=\"Helvetica,sans-Serif\" font-size=\"14.00\">class = Died</text>\r\n",
       "</g>\r\n",
       "<!-- 9&#45;&gt;15 -->\r\n",
       "<g id=\"edge15\" class=\"edge\"><title>9&#45;&gt;15</title>\r\n",
       "<path fill=\"none\" stroke=\"black\" d=\"M590.143,-341.907C596.529,-333.014 603.352,-323.509 609.942,-314.331\"/>\r\n",
       "<polygon fill=\"black\" stroke=\"black\" points=\"612.919,-316.185 615.908,-306.021 607.233,-312.103 612.919,-316.185\"/>\r\n",
       "</g>\r\n",
       "<!-- 11 -->\r\n",
       "<g id=\"node12\" class=\"node\"><title>11</title>\r\n",
       "<path fill=\"#e58139\" stroke=\"black\" d=\"M355.5,-179.5C355.5,-179.5 274.5,-179.5 274.5,-179.5 268.5,-179.5 262.5,-173.5 262.5,-167.5 262.5,-167.5 262.5,-123.5 262.5,-123.5 262.5,-117.5 268.5,-111.5 274.5,-111.5 274.5,-111.5 355.5,-111.5 355.5,-111.5 361.5,-111.5 367.5,-117.5 367.5,-123.5 367.5,-123.5 367.5,-167.5 367.5,-167.5 367.5,-173.5 361.5,-179.5 355.5,-179.5\"/>\r\n",
       "<text text-anchor=\"middle\" x=\"315\" y=\"-164.3\" font-family=\"Helvetica,sans-Serif\" font-size=\"14.00\">entropy = 0.0</text>\r\n",
       "<text text-anchor=\"middle\" x=\"315\" y=\"-149.3\" font-family=\"Helvetica,sans-Serif\" font-size=\"14.00\">samples = 23</text>\r\n",
       "<text text-anchor=\"middle\" x=\"315\" y=\"-134.3\" font-family=\"Helvetica,sans-Serif\" font-size=\"14.00\">value = [23, 0]</text>\r\n",
       "<text text-anchor=\"middle\" x=\"315\" y=\"-119.3\" font-family=\"Helvetica,sans-Serif\" font-size=\"14.00\">class = Died</text>\r\n",
       "</g>\r\n",
       "<!-- 10&#45;&gt;11 -->\r\n",
       "<g id=\"edge11\" class=\"edge\"><title>10&#45;&gt;11</title>\r\n",
       "<path fill=\"none\" stroke=\"black\" d=\"M420.795,-222.907C404.141,-210.88 385.94,-197.735 369.403,-185.791\"/>\r\n",
       "<polygon fill=\"black\" stroke=\"black\" points=\"371.079,-182.684 360.923,-179.667 366.981,-188.359 371.079,-182.684\"/>\r\n",
       "</g>\r\n",
       "<!-- 12 -->\r\n",
       "<g id=\"node13\" class=\"node\"><title>12</title>\r\n",
       "<path fill=\"#e89152\" stroke=\"black\" d=\"M556.5,-187C556.5,-187 397.5,-187 397.5,-187 391.5,-187 385.5,-181 385.5,-175 385.5,-175 385.5,-116 385.5,-116 385.5,-110 391.5,-104 397.5,-104 397.5,-104 556.5,-104 556.5,-104 562.5,-104 568.5,-110 568.5,-116 568.5,-116 568.5,-175 568.5,-175 568.5,-181 562.5,-187 556.5,-187\"/>\r\n",
       "<text text-anchor=\"middle\" x=\"477\" y=\"-171.8\" font-family=\"Helvetica,sans-Serif\" font-size=\"14.00\">Special_Ticket_1.0 &lt;= 0.5</text>\r\n",
       "<text text-anchor=\"middle\" x=\"477\" y=\"-156.8\" font-family=\"Helvetica,sans-Serif\" font-size=\"14.00\">entropy = 0.506</text>\r\n",
       "<text text-anchor=\"middle\" x=\"477\" y=\"-141.8\" font-family=\"Helvetica,sans-Serif\" font-size=\"14.00\">samples = 241</text>\r\n",
       "<text text-anchor=\"middle\" x=\"477\" y=\"-126.8\" font-family=\"Helvetica,sans-Serif\" font-size=\"14.00\">value = [214, 27]</text>\r\n",
       "<text text-anchor=\"middle\" x=\"477\" y=\"-111.8\" font-family=\"Helvetica,sans-Serif\" font-size=\"14.00\">class = Died</text>\r\n",
       "</g>\r\n",
       "<!-- 10&#45;&gt;12 -->\r\n",
       "<g id=\"edge12\" class=\"edge\"><title>10&#45;&gt;12</title>\r\n",
       "<path fill=\"none\" stroke=\"black\" d=\"M477,-222.907C477,-214.649 477,-205.864 477,-197.302\"/>\r\n",
       "<polygon fill=\"black\" stroke=\"black\" points=\"480.5,-197.021 477,-187.021 473.5,-197.021 480.5,-197.021\"/>\r\n",
       "</g>\r\n",
       "<!-- 13 -->\r\n",
       "<g id=\"node14\" class=\"node\"><title>13</title>\r\n",
       "<path fill=\"#e78d4c\" stroke=\"black\" d=\"M404,-68C404,-68 306,-68 306,-68 300,-68 294,-62 294,-56 294,-56 294,-12 294,-12 294,-6 300,-0 306,-0 306,-0 404,-0 404,-0 410,-0 416,-6 416,-12 416,-12 416,-56 416,-56 416,-62 410,-68 404,-68\"/>\r\n",
       "<text text-anchor=\"middle\" x=\"355\" y=\"-52.8\" font-family=\"Helvetica,sans-Serif\" font-size=\"14.00\">entropy = 0.425</text>\r\n",
       "<text text-anchor=\"middle\" x=\"355\" y=\"-37.8\" font-family=\"Helvetica,sans-Serif\" font-size=\"14.00\">samples = 185</text>\r\n",
       "<text text-anchor=\"middle\" x=\"355\" y=\"-22.8\" font-family=\"Helvetica,sans-Serif\" font-size=\"14.00\">value = [169, 16]</text>\r\n",
       "<text text-anchor=\"middle\" x=\"355\" y=\"-7.8\" font-family=\"Helvetica,sans-Serif\" font-size=\"14.00\">class = Died</text>\r\n",
       "</g>\r\n",
       "<!-- 12&#45;&gt;13 -->\r\n",
       "<g id=\"edge13\" class=\"edge\"><title>12&#45;&gt;13</title>\r\n",
       "<path fill=\"none\" stroke=\"black\" d=\"M431.572,-103.726C421.105,-94.3318 409.982,-84.349 399.553,-74.9883\"/>\r\n",
       "<polygon fill=\"black\" stroke=\"black\" points=\"401.881,-72.3744 392.101,-68.2996 397.205,-77.5839 401.881,-72.3744\"/>\r\n",
       "</g>\r\n",
       "<!-- 14 -->\r\n",
       "<g id=\"node15\" class=\"node\"><title>14</title>\r\n",
       "<path fill=\"#eba069\" stroke=\"black\" d=\"M538,-68C538,-68 446,-68 446,-68 440,-68 434,-62 434,-56 434,-56 434,-12 434,-12 434,-6 440,-0 446,-0 446,-0 538,-0 538,-0 544,-0 550,-6 550,-12 550,-12 550,-56 550,-56 550,-62 544,-68 538,-68\"/>\r\n",
       "<text text-anchor=\"middle\" x=\"492\" y=\"-52.8\" font-family=\"Helvetica,sans-Serif\" font-size=\"14.00\">entropy = 0.715</text>\r\n",
       "<text text-anchor=\"middle\" x=\"492\" y=\"-37.8\" font-family=\"Helvetica,sans-Serif\" font-size=\"14.00\">samples = 56</text>\r\n",
       "<text text-anchor=\"middle\" x=\"492\" y=\"-22.8\" font-family=\"Helvetica,sans-Serif\" font-size=\"14.00\">value = [45, 11]</text>\r\n",
       "<text text-anchor=\"middle\" x=\"492\" y=\"-7.8\" font-family=\"Helvetica,sans-Serif\" font-size=\"14.00\">class = Died</text>\r\n",
       "</g>\r\n",
       "<!-- 12&#45;&gt;14 -->\r\n",
       "<g id=\"edge14\" class=\"edge\"><title>12&#45;&gt;14</title>\r\n",
       "<path fill=\"none\" stroke=\"black\" d=\"M482.585,-103.726C483.722,-95.4263 484.922,-86.6671 486.071,-78.2834\"/>\r\n",
       "<polygon fill=\"black\" stroke=\"black\" points=\"489.549,-78.6821 487.438,-68.2996 482.614,-77.732 489.549,-78.6821\"/>\r\n",
       "</g>\r\n",
       "<!-- 16 -->\r\n",
       "<g id=\"node17\" class=\"node\"><title>16</title>\r\n",
       "<path fill=\"#f5ceb1\" stroke=\"black\" d=\"M691,-187C691,-187 599,-187 599,-187 593,-187 587,-181 587,-175 587,-175 587,-116 587,-116 587,-110 593,-104 599,-104 599,-104 691,-104 691,-104 697,-104 703,-110 703,-116 703,-116 703,-175 703,-175 703,-181 697,-187 691,-187\"/>\r\n",
       "<text text-anchor=\"middle\" x=\"645\" y=\"-171.8\" font-family=\"Helvetica,sans-Serif\" font-size=\"14.00\">Fare &lt;= 26.419</text>\r\n",
       "<text text-anchor=\"middle\" x=\"645\" y=\"-156.8\" font-family=\"Helvetica,sans-Serif\" font-size=\"14.00\">entropy = 0.957</text>\r\n",
       "<text text-anchor=\"middle\" x=\"645\" y=\"-141.8\" font-family=\"Helvetica,sans-Serif\" font-size=\"14.00\">samples = 82</text>\r\n",
       "<text text-anchor=\"middle\" x=\"645\" y=\"-126.8\" font-family=\"Helvetica,sans-Serif\" font-size=\"14.00\">value = [51, 31]</text>\r\n",
       "<text text-anchor=\"middle\" x=\"645\" y=\"-111.8\" font-family=\"Helvetica,sans-Serif\" font-size=\"14.00\">class = Died</text>\r\n",
       "</g>\r\n",
       "<!-- 15&#45;&gt;16 -->\r\n",
       "<g id=\"edge16\" class=\"edge\"><title>15&#45;&gt;16</title>\r\n",
       "<path fill=\"none\" stroke=\"black\" d=\"M645,-222.907C645,-214.649 645,-205.864 645,-197.302\"/>\r\n",
       "<polygon fill=\"black\" stroke=\"black\" points=\"648.5,-197.021 645,-187.021 641.5,-197.021 648.5,-197.021\"/>\r\n",
       "</g>\r\n",
       "<!-- 19 -->\r\n",
       "<g id=\"node20\" class=\"node\"><title>19</title>\r\n",
       "<path fill=\"#e58139\" stroke=\"black\" d=\"M814.5,-179.5C814.5,-179.5 733.5,-179.5 733.5,-179.5 727.5,-179.5 721.5,-173.5 721.5,-167.5 721.5,-167.5 721.5,-123.5 721.5,-123.5 721.5,-117.5 727.5,-111.5 733.5,-111.5 733.5,-111.5 814.5,-111.5 814.5,-111.5 820.5,-111.5 826.5,-117.5 826.5,-123.5 826.5,-123.5 826.5,-167.5 826.5,-167.5 826.5,-173.5 820.5,-179.5 814.5,-179.5\"/>\r\n",
       "<text text-anchor=\"middle\" x=\"774\" y=\"-164.3\" font-family=\"Helvetica,sans-Serif\" font-size=\"14.00\">entropy = 0.0</text>\r\n",
       "<text text-anchor=\"middle\" x=\"774\" y=\"-149.3\" font-family=\"Helvetica,sans-Serif\" font-size=\"14.00\">samples = 12</text>\r\n",
       "<text text-anchor=\"middle\" x=\"774\" y=\"-134.3\" font-family=\"Helvetica,sans-Serif\" font-size=\"14.00\">value = [12, 0]</text>\r\n",
       "<text text-anchor=\"middle\" x=\"774\" y=\"-119.3\" font-family=\"Helvetica,sans-Serif\" font-size=\"14.00\">class = Died</text>\r\n",
       "</g>\r\n",
       "<!-- 15&#45;&gt;19 -->\r\n",
       "<g id=\"edge19\" class=\"edge\"><title>15&#45;&gt;19</title>\r\n",
       "<path fill=\"none\" stroke=\"black\" d=\"M689.756,-222.907C702.774,-211.101 716.979,-198.217 729.953,-186.45\"/>\r\n",
       "<polygon fill=\"black\" stroke=\"black\" points=\"732.375,-188.978 737.431,-179.667 727.673,-183.793 732.375,-188.978\"/>\r\n",
       "</g>\r\n",
       "<!-- 17 -->\r\n",
       "<g id=\"node18\" class=\"node\"><title>17</title>\r\n",
       "<path fill=\"#399de5\" stroke=\"black\" d=\"M686,-68C686,-68 592,-68 592,-68 586,-68 580,-62 580,-56 580,-56 580,-12 580,-12 580,-6 586,-0 592,-0 592,-0 686,-0 686,-0 692,-0 698,-6 698,-12 698,-12 698,-56 698,-56 698,-62 692,-68 686,-68\"/>\r\n",
       "<text text-anchor=\"middle\" x=\"639\" y=\"-52.8\" font-family=\"Helvetica,sans-Serif\" font-size=\"14.00\">entropy = 0.0</text>\r\n",
       "<text text-anchor=\"middle\" x=\"639\" y=\"-37.8\" font-family=\"Helvetica,sans-Serif\" font-size=\"14.00\">samples = 2</text>\r\n",
       "<text text-anchor=\"middle\" x=\"639\" y=\"-22.8\" font-family=\"Helvetica,sans-Serif\" font-size=\"14.00\">value = [0, 2]</text>\r\n",
       "<text text-anchor=\"middle\" x=\"639\" y=\"-7.8\" font-family=\"Helvetica,sans-Serif\" font-size=\"14.00\">class = survived</text>\r\n",
       "</g>\r\n",
       "<!-- 16&#45;&gt;17 -->\r\n",
       "<g id=\"edge17\" class=\"edge\"><title>16&#45;&gt;17</title>\r\n",
       "<path fill=\"none\" stroke=\"black\" d=\"M642.766,-103.726C642.316,-95.5175 641.842,-86.8595 641.387,-78.56\"/>\r\n",
       "<polygon fill=\"black\" stroke=\"black\" points=\"644.867,-78.0931 640.825,-68.2996 637.877,-78.4761 644.867,-78.0931\"/>\r\n",
       "</g>\r\n",
       "<!-- 18 -->\r\n",
       "<g id=\"node19\" class=\"node\"><title>18</title>\r\n",
       "<path fill=\"#f4c9aa\" stroke=\"black\" d=\"M820,-68C820,-68 728,-68 728,-68 722,-68 716,-62 716,-56 716,-56 716,-12 716,-12 716,-6 722,-0 728,-0 728,-0 820,-0 820,-0 826,-0 832,-6 832,-12 832,-12 832,-56 832,-56 832,-62 826,-68 820,-68\"/>\r\n",
       "<text text-anchor=\"middle\" x=\"774\" y=\"-52.8\" font-family=\"Helvetica,sans-Serif\" font-size=\"14.00\">entropy = 0.945</text>\r\n",
       "<text text-anchor=\"middle\" x=\"774\" y=\"-37.8\" font-family=\"Helvetica,sans-Serif\" font-size=\"14.00\">samples = 80</text>\r\n",
       "<text text-anchor=\"middle\" x=\"774\" y=\"-22.8\" font-family=\"Helvetica,sans-Serif\" font-size=\"14.00\">value = [51, 29]</text>\r\n",
       "<text text-anchor=\"middle\" x=\"774\" y=\"-7.8\" font-family=\"Helvetica,sans-Serif\" font-size=\"14.00\">class = Died</text>\r\n",
       "</g>\r\n",
       "<!-- 16&#45;&gt;18 -->\r\n",
       "<g id=\"edge18\" class=\"edge\"><title>16&#45;&gt;18</title>\r\n",
       "<path fill=\"none\" stroke=\"black\" d=\"M693.035,-103.726C704.102,-94.3318 715.863,-84.349 726.89,-74.9883\"/>\r\n",
       "<polygon fill=\"black\" stroke=\"black\" points=\"729.412,-77.4393 734.77,-68.2996 724.882,-72.1026 729.412,-77.4393\"/>\r\n",
       "</g>\r\n",
       "<!-- 21 -->\r\n",
       "<g id=\"node22\" class=\"node\"><title>21</title>\r\n",
       "<path fill=\"#42a1e6\" stroke=\"black\" d=\"M1146,-425C1146,-425 1052,-425 1052,-425 1046,-425 1040,-419 1040,-413 1040,-413 1040,-354 1040,-354 1040,-348 1046,-342 1052,-342 1052,-342 1146,-342 1146,-342 1152,-342 1158,-348 1158,-354 1158,-354 1158,-413 1158,-413 1158,-419 1152,-425 1146,-425\"/>\r\n",
       "<text text-anchor=\"middle\" x=\"1099\" y=\"-409.8\" font-family=\"Helvetica,sans-Serif\" font-size=\"14.00\">Age &lt;= 3.0</text>\r\n",
       "<text text-anchor=\"middle\" x=\"1099\" y=\"-394.8\" font-family=\"Helvetica,sans-Serif\" font-size=\"14.00\">entropy = 0.25</text>\r\n",
       "<text text-anchor=\"middle\" x=\"1099\" y=\"-379.8\" font-family=\"Helvetica,sans-Serif\" font-size=\"14.00\">samples = 96</text>\r\n",
       "<text text-anchor=\"middle\" x=\"1099\" y=\"-364.8\" font-family=\"Helvetica,sans-Serif\" font-size=\"14.00\">value = [4, 92]</text>\r\n",
       "<text text-anchor=\"middle\" x=\"1099\" y=\"-349.8\" font-family=\"Helvetica,sans-Serif\" font-size=\"14.00\">class = survived</text>\r\n",
       "</g>\r\n",
       "<!-- 20&#45;&gt;21 -->\r\n",
       "<g id=\"edge21\" class=\"edge\"><title>20&#45;&gt;21</title>\r\n",
       "<path fill=\"none\" stroke=\"black\" d=\"M1099,-460.907C1099,-452.649 1099,-443.864 1099,-435.302\"/>\r\n",
       "<polygon fill=\"black\" stroke=\"black\" points=\"1102.5,-435.021 1099,-425.021 1095.5,-435.021 1102.5,-435.021\"/>\r\n",
       "</g>\r\n",
       "<!-- 32 -->\r\n",
       "<g id=\"node33\" class=\"node\"><title>32</title>\r\n",
       "<path fill=\"#fefcfb\" stroke=\"black\" d=\"M1824.5,-425C1824.5,-425 1735.5,-425 1735.5,-425 1729.5,-425 1723.5,-419 1723.5,-413 1723.5,-413 1723.5,-354 1723.5,-354 1723.5,-348 1729.5,-342 1735.5,-342 1735.5,-342 1824.5,-342 1824.5,-342 1830.5,-342 1836.5,-348 1836.5,-354 1836.5,-354 1836.5,-413 1836.5,-413 1836.5,-419 1830.5,-425 1824.5,-425\"/>\r\n",
       "<text text-anchor=\"middle\" x=\"1780\" y=\"-409.8\" font-family=\"Helvetica,sans-Serif\" font-size=\"14.00\">Fare &lt;= 23.35</text>\r\n",
       "<text text-anchor=\"middle\" x=\"1780\" y=\"-394.8\" font-family=\"Helvetica,sans-Serif\" font-size=\"14.00\">entropy = 1.0</text>\r\n",
       "<text text-anchor=\"middle\" x=\"1780\" y=\"-379.8\" font-family=\"Helvetica,sans-Serif\" font-size=\"14.00\">samples = 97</text>\r\n",
       "<text text-anchor=\"middle\" x=\"1780\" y=\"-364.8\" font-family=\"Helvetica,sans-Serif\" font-size=\"14.00\">value = [49, 48]</text>\r\n",
       "<text text-anchor=\"middle\" x=\"1780\" y=\"-349.8\" font-family=\"Helvetica,sans-Serif\" font-size=\"14.00\">class = Died</text>\r\n",
       "</g>\r\n",
       "<!-- 20&#45;&gt;32 -->\r\n",
       "<g id=\"edge32\" class=\"edge\"><title>20&#45;&gt;32</title>\r\n",
       "<path fill=\"none\" stroke=\"black\" d=\"M1160.03,-491.014C1287.46,-469.121 1580.92,-418.703 1713.2,-395.977\"/>\r\n",
       "<polygon fill=\"black\" stroke=\"black\" points=\"1713.94,-399.401 1723.2,-394.258 1712.75,-392.502 1713.94,-399.401\"/>\r\n",
       "</g>\r\n",
       "<!-- 22 -->\r\n",
       "<g id=\"node23\" class=\"node\"><title>22</title>\r\n",
       "<path fill=\"#ffffff\" stroke=\"black\" d=\"M1069,-306C1069,-306 993,-306 993,-306 987,-306 981,-300 981,-294 981,-294 981,-235 981,-235 981,-229 987,-223 993,-223 993,-223 1069,-223 1069,-223 1075,-223 1081,-229 1081,-235 1081,-235 1081,-294 1081,-294 1081,-300 1075,-306 1069,-306\"/>\r\n",
       "<text text-anchor=\"middle\" x=\"1031\" y=\"-290.8\" font-family=\"Helvetica,sans-Serif\" font-size=\"14.00\">Parch &lt;= 1.5</text>\r\n",
       "<text text-anchor=\"middle\" x=\"1031\" y=\"-275.8\" font-family=\"Helvetica,sans-Serif\" font-size=\"14.00\">entropy = 1.0</text>\r\n",
       "<text text-anchor=\"middle\" x=\"1031\" y=\"-260.8\" font-family=\"Helvetica,sans-Serif\" font-size=\"14.00\">samples = 2</text>\r\n",
       "<text text-anchor=\"middle\" x=\"1031\" y=\"-245.8\" font-family=\"Helvetica,sans-Serif\" font-size=\"14.00\">value = [1, 1]</text>\r\n",
       "<text text-anchor=\"middle\" x=\"1031\" y=\"-230.8\" font-family=\"Helvetica,sans-Serif\" font-size=\"14.00\">class = Died</text>\r\n",
       "</g>\r\n",
       "<!-- 21&#45;&gt;22 -->\r\n",
       "<g id=\"edge22\" class=\"edge\"><title>21&#45;&gt;22</title>\r\n",
       "<path fill=\"none\" stroke=\"black\" d=\"M1075.41,-341.907C1070.34,-333.195 1064.94,-323.897 1059.71,-314.893\"/>\r\n",
       "<polygon fill=\"black\" stroke=\"black\" points=\"1062.6,-312.908 1054.55,-306.021 1056.55,-316.425 1062.6,-312.908\"/>\r\n",
       "</g>\r\n",
       "<!-- 25 -->\r\n",
       "<g id=\"node26\" class=\"node\"><title>25</title>\r\n",
       "<path fill=\"#40a0e6\" stroke=\"black\" d=\"M1215,-306C1215,-306 1121,-306 1121,-306 1115,-306 1109,-300 1109,-294 1109,-294 1109,-235 1109,-235 1109,-229 1115,-223 1121,-223 1121,-223 1215,-223 1215,-223 1221,-223 1227,-229 1227,-235 1227,-235 1227,-294 1227,-294 1227,-300 1221,-306 1215,-306\"/>\r\n",
       "<text text-anchor=\"middle\" x=\"1168\" y=\"-290.8\" font-family=\"Helvetica,sans-Serif\" font-size=\"14.00\">Age &lt;= 26.0</text>\r\n",
       "<text text-anchor=\"middle\" x=\"1168\" y=\"-275.8\" font-family=\"Helvetica,sans-Serif\" font-size=\"14.00\">entropy = 0.204</text>\r\n",
       "<text text-anchor=\"middle\" x=\"1168\" y=\"-260.8\" font-family=\"Helvetica,sans-Serif\" font-size=\"14.00\">samples = 94</text>\r\n",
       "<text text-anchor=\"middle\" x=\"1168\" y=\"-245.8\" font-family=\"Helvetica,sans-Serif\" font-size=\"14.00\">value = [3, 91]</text>\r\n",
       "<text text-anchor=\"middle\" x=\"1168\" y=\"-230.8\" font-family=\"Helvetica,sans-Serif\" font-size=\"14.00\">class = survived</text>\r\n",
       "</g>\r\n",
       "<!-- 21&#45;&gt;25 -->\r\n",
       "<g id=\"edge25\" class=\"edge\"><title>21&#45;&gt;25</title>\r\n",
       "<path fill=\"none\" stroke=\"black\" d=\"M1122.94,-341.907C1128.08,-333.195 1133.56,-323.897 1138.87,-314.893\"/>\r\n",
       "<polygon fill=\"black\" stroke=\"black\" points=\"1142.04,-316.412 1144.1,-306.021 1136.01,-312.857 1142.04,-316.412\"/>\r\n",
       "</g>\r\n",
       "<!-- 23 -->\r\n",
       "<g id=\"node24\" class=\"node\"><title>23</title>\r\n",
       "<path fill=\"#399de5\" stroke=\"black\" d=\"M951,-179.5C951,-179.5 857,-179.5 857,-179.5 851,-179.5 845,-173.5 845,-167.5 845,-167.5 845,-123.5 845,-123.5 845,-117.5 851,-111.5 857,-111.5 857,-111.5 951,-111.5 951,-111.5 957,-111.5 963,-117.5 963,-123.5 963,-123.5 963,-167.5 963,-167.5 963,-173.5 957,-179.5 951,-179.5\"/>\r\n",
       "<text text-anchor=\"middle\" x=\"904\" y=\"-164.3\" font-family=\"Helvetica,sans-Serif\" font-size=\"14.00\">entropy = 0.0</text>\r\n",
       "<text text-anchor=\"middle\" x=\"904\" y=\"-149.3\" font-family=\"Helvetica,sans-Serif\" font-size=\"14.00\">samples = 1</text>\r\n",
       "<text text-anchor=\"middle\" x=\"904\" y=\"-134.3\" font-family=\"Helvetica,sans-Serif\" font-size=\"14.00\">value = [0, 1]</text>\r\n",
       "<text text-anchor=\"middle\" x=\"904\" y=\"-119.3\" font-family=\"Helvetica,sans-Serif\" font-size=\"14.00\">class = survived</text>\r\n",
       "</g>\r\n",
       "<!-- 22&#45;&gt;23 -->\r\n",
       "<g id=\"edge23\" class=\"edge\"><title>22&#45;&gt;23</title>\r\n",
       "<path fill=\"none\" stroke=\"black\" d=\"M986.938,-222.907C974.122,-211.101 960.137,-198.217 947.364,-186.45\"/>\r\n",
       "<polygon fill=\"black\" stroke=\"black\" points=\"949.728,-183.868 940.002,-179.667 944.985,-189.017 949.728,-183.868\"/>\r\n",
       "</g>\r\n",
       "<!-- 24 -->\r\n",
       "<g id=\"node25\" class=\"node\"><title>24</title>\r\n",
       "<path fill=\"#e58139\" stroke=\"black\" d=\"M1069,-179.5C1069,-179.5 993,-179.5 993,-179.5 987,-179.5 981,-173.5 981,-167.5 981,-167.5 981,-123.5 981,-123.5 981,-117.5 987,-111.5 993,-111.5 993,-111.5 1069,-111.5 1069,-111.5 1075,-111.5 1081,-117.5 1081,-123.5 1081,-123.5 1081,-167.5 1081,-167.5 1081,-173.5 1075,-179.5 1069,-179.5\"/>\r\n",
       "<text text-anchor=\"middle\" x=\"1031\" y=\"-164.3\" font-family=\"Helvetica,sans-Serif\" font-size=\"14.00\">entropy = 0.0</text>\r\n",
       "<text text-anchor=\"middle\" x=\"1031\" y=\"-149.3\" font-family=\"Helvetica,sans-Serif\" font-size=\"14.00\">samples = 1</text>\r\n",
       "<text text-anchor=\"middle\" x=\"1031\" y=\"-134.3\" font-family=\"Helvetica,sans-Serif\" font-size=\"14.00\">value = [1, 0]</text>\r\n",
       "<text text-anchor=\"middle\" x=\"1031\" y=\"-119.3\" font-family=\"Helvetica,sans-Serif\" font-size=\"14.00\">class = Died</text>\r\n",
       "</g>\r\n",
       "<!-- 22&#45;&gt;24 -->\r\n",
       "<g id=\"edge24\" class=\"edge\"><title>22&#45;&gt;24</title>\r\n",
       "<path fill=\"none\" stroke=\"black\" d=\"M1031,-222.907C1031,-212.204 1031,-200.615 1031,-189.776\"/>\r\n",
       "<polygon fill=\"black\" stroke=\"black\" points=\"1034.5,-189.667 1031,-179.667 1027.5,-189.667 1034.5,-189.667\"/>\r\n",
       "</g>\r\n",
       "<!-- 26 -->\r\n",
       "<g id=\"node27\" class=\"node\"><title>26</title>\r\n",
       "<path fill=\"#47a4e7\" stroke=\"black\" d=\"M1224.5,-187C1224.5,-187 1111.5,-187 1111.5,-187 1105.5,-187 1099.5,-181 1099.5,-175 1099.5,-175 1099.5,-116 1099.5,-116 1099.5,-110 1105.5,-104 1111.5,-104 1111.5,-104 1224.5,-104 1224.5,-104 1230.5,-104 1236.5,-110 1236.5,-116 1236.5,-116 1236.5,-175 1236.5,-175 1236.5,-181 1230.5,-187 1224.5,-187\"/>\r\n",
       "<text text-anchor=\"middle\" x=\"1168\" y=\"-171.8\" font-family=\"Helvetica,sans-Serif\" font-size=\"14.00\">Married_1.0 &lt;= 0.5</text>\r\n",
       "<text text-anchor=\"middle\" x=\"1168\" y=\"-156.8\" font-family=\"Helvetica,sans-Serif\" font-size=\"14.00\">entropy = 0.345</text>\r\n",
       "<text text-anchor=\"middle\" x=\"1168\" y=\"-141.8\" font-family=\"Helvetica,sans-Serif\" font-size=\"14.00\">samples = 31</text>\r\n",
       "<text text-anchor=\"middle\" x=\"1168\" y=\"-126.8\" font-family=\"Helvetica,sans-Serif\" font-size=\"14.00\">value = [2, 29]</text>\r\n",
       "<text text-anchor=\"middle\" x=\"1168\" y=\"-111.8\" font-family=\"Helvetica,sans-Serif\" font-size=\"14.00\">class = survived</text>\r\n",
       "</g>\r\n",
       "<!-- 25&#45;&gt;26 -->\r\n",
       "<g id=\"edge26\" class=\"edge\"><title>25&#45;&gt;26</title>\r\n",
       "<path fill=\"none\" stroke=\"black\" d=\"M1168,-222.907C1168,-214.649 1168,-205.864 1168,-197.302\"/>\r\n",
       "<polygon fill=\"black\" stroke=\"black\" points=\"1171.5,-197.021 1168,-187.021 1164.5,-197.021 1171.5,-197.021\"/>\r\n",
       "</g>\r\n",
       "<!-- 29 -->\r\n",
       "<g id=\"node30\" class=\"node\"><title>29</title>\r\n",
       "<path fill=\"#3c9fe5\" stroke=\"black\" d=\"M1361,-187C1361,-187 1267,-187 1267,-187 1261,-187 1255,-181 1255,-175 1255,-175 1255,-116 1255,-116 1255,-110 1261,-104 1267,-104 1267,-104 1361,-104 1361,-104 1367,-104 1373,-110 1373,-116 1373,-116 1373,-175 1373,-175 1373,-181 1367,-187 1361,-187\"/>\r\n",
       "<text text-anchor=\"middle\" x=\"1314\" y=\"-171.8\" font-family=\"Helvetica,sans-Serif\" font-size=\"14.00\">Age &lt;= 49.5</text>\r\n",
       "<text text-anchor=\"middle\" x=\"1314\" y=\"-156.8\" font-family=\"Helvetica,sans-Serif\" font-size=\"14.00\">entropy = 0.118</text>\r\n",
       "<text text-anchor=\"middle\" x=\"1314\" y=\"-141.8\" font-family=\"Helvetica,sans-Serif\" font-size=\"14.00\">samples = 63</text>\r\n",
       "<text text-anchor=\"middle\" x=\"1314\" y=\"-126.8\" font-family=\"Helvetica,sans-Serif\" font-size=\"14.00\">value = [1, 62]</text>\r\n",
       "<text text-anchor=\"middle\" x=\"1314\" y=\"-111.8\" font-family=\"Helvetica,sans-Serif\" font-size=\"14.00\">class = survived</text>\r\n",
       "</g>\r\n",
       "<!-- 25&#45;&gt;29 -->\r\n",
       "<g id=\"edge29\" class=\"edge\"><title>25&#45;&gt;29</title>\r\n",
       "<path fill=\"none\" stroke=\"black\" d=\"M1218.65,-222.907C1230.54,-213.379 1243.31,-203.148 1255.51,-193.37\"/>\r\n",
       "<polygon fill=\"black\" stroke=\"black\" points=\"1257.82,-196.006 1263.44,-187.021 1253.44,-190.543 1257.82,-196.006\"/>\r\n",
       "</g>\r\n",
       "<!-- 27 -->\r\n",
       "<g id=\"node28\" class=\"node\"><title>27</title>\r\n",
       "<path fill=\"#399de5\" stroke=\"black\" d=\"M1079,-68C1079,-68 985,-68 985,-68 979,-68 973,-62 973,-56 973,-56 973,-12 973,-12 973,-6 979,-0 985,-0 985,-0 1079,-0 1079,-0 1085,-0 1091,-6 1091,-12 1091,-12 1091,-56 1091,-56 1091,-62 1085,-68 1079,-68\"/>\r\n",
       "<text text-anchor=\"middle\" x=\"1032\" y=\"-52.8\" font-family=\"Helvetica,sans-Serif\" font-size=\"14.00\">entropy = 0.0</text>\r\n",
       "<text text-anchor=\"middle\" x=\"1032\" y=\"-37.8\" font-family=\"Helvetica,sans-Serif\" font-size=\"14.00\">samples = 20</text>\r\n",
       "<text text-anchor=\"middle\" x=\"1032\" y=\"-22.8\" font-family=\"Helvetica,sans-Serif\" font-size=\"14.00\">value = [0, 20]</text>\r\n",
       "<text text-anchor=\"middle\" x=\"1032\" y=\"-7.8\" font-family=\"Helvetica,sans-Serif\" font-size=\"14.00\">class = survived</text>\r\n",
       "</g>\r\n",
       "<!-- 26&#45;&gt;27 -->\r\n",
       "<g id=\"edge27\" class=\"edge\"><title>26&#45;&gt;27</title>\r\n",
       "<path fill=\"none\" stroke=\"black\" d=\"M1117.36,-103.726C1105.58,-94.2406 1093.05,-84.1551 1081.33,-74.7159\"/>\r\n",
       "<polygon fill=\"black\" stroke=\"black\" points=\"1083.34,-71.8448 1073.36,-68.2996 1078.95,-77.2972 1083.34,-71.8448\"/>\r\n",
       "</g>\r\n",
       "<!-- 28 -->\r\n",
       "<g id=\"node29\" class=\"node\"><title>28</title>\r\n",
       "<path fill=\"#65b3eb\" stroke=\"black\" d=\"M1215,-68C1215,-68 1121,-68 1121,-68 1115,-68 1109,-62 1109,-56 1109,-56 1109,-12 1109,-12 1109,-6 1115,-0 1121,-0 1121,-0 1215,-0 1215,-0 1221,-0 1227,-6 1227,-12 1227,-12 1227,-56 1227,-56 1227,-62 1221,-68 1215,-68\"/>\r\n",
       "<text text-anchor=\"middle\" x=\"1168\" y=\"-52.8\" font-family=\"Helvetica,sans-Serif\" font-size=\"14.00\">entropy = 0.684</text>\r\n",
       "<text text-anchor=\"middle\" x=\"1168\" y=\"-37.8\" font-family=\"Helvetica,sans-Serif\" font-size=\"14.00\">samples = 11</text>\r\n",
       "<text text-anchor=\"middle\" x=\"1168\" y=\"-22.8\" font-family=\"Helvetica,sans-Serif\" font-size=\"14.00\">value = [2, 9]</text>\r\n",
       "<text text-anchor=\"middle\" x=\"1168\" y=\"-7.8\" font-family=\"Helvetica,sans-Serif\" font-size=\"14.00\">class = survived</text>\r\n",
       "</g>\r\n",
       "<!-- 26&#45;&gt;28 -->\r\n",
       "<g id=\"edge28\" class=\"edge\"><title>26&#45;&gt;28</title>\r\n",
       "<path fill=\"none\" stroke=\"black\" d=\"M1168,-103.726C1168,-95.5175 1168,-86.8595 1168,-78.56\"/>\r\n",
       "<polygon fill=\"black\" stroke=\"black\" points=\"1171.5,-78.2996 1168,-68.2996 1164.5,-78.2996 1171.5,-78.2996\"/>\r\n",
       "</g>\r\n",
       "<!-- 30 -->\r\n",
       "<g id=\"node31\" class=\"node\"><title>30</title>\r\n",
       "<path fill=\"#399de5\" stroke=\"black\" d=\"M1351,-68C1351,-68 1257,-68 1257,-68 1251,-68 1245,-62 1245,-56 1245,-56 1245,-12 1245,-12 1245,-6 1251,-0 1257,-0 1257,-0 1351,-0 1351,-0 1357,-0 1363,-6 1363,-12 1363,-12 1363,-56 1363,-56 1363,-62 1357,-68 1351,-68\"/>\r\n",
       "<text text-anchor=\"middle\" x=\"1304\" y=\"-52.8\" font-family=\"Helvetica,sans-Serif\" font-size=\"14.00\">entropy = 0.0</text>\r\n",
       "<text text-anchor=\"middle\" x=\"1304\" y=\"-37.8\" font-family=\"Helvetica,sans-Serif\" font-size=\"14.00\">samples = 52</text>\r\n",
       "<text text-anchor=\"middle\" x=\"1304\" y=\"-22.8\" font-family=\"Helvetica,sans-Serif\" font-size=\"14.00\">value = [0, 52]</text>\r\n",
       "<text text-anchor=\"middle\" x=\"1304\" y=\"-7.8\" font-family=\"Helvetica,sans-Serif\" font-size=\"14.00\">class = survived</text>\r\n",
       "</g>\r\n",
       "<!-- 29&#45;&gt;30 -->\r\n",
       "<g id=\"edge30\" class=\"edge\"><title>29&#45;&gt;30</title>\r\n",
       "<path fill=\"none\" stroke=\"black\" d=\"M1310.28,-103.726C1309.52,-95.4263 1308.72,-86.6671 1307.95,-78.2834\"/>\r\n",
       "<polygon fill=\"black\" stroke=\"black\" points=\"1311.44,-77.9398 1307.04,-68.2996 1304.47,-78.5765 1311.44,-77.9398\"/>\r\n",
       "</g>\r\n",
       "<!-- 31 -->\r\n",
       "<g id=\"node32\" class=\"node\"><title>31</title>\r\n",
       "<path fill=\"#4da7e8\" stroke=\"black\" d=\"M1487,-68C1487,-68 1393,-68 1393,-68 1387,-68 1381,-62 1381,-56 1381,-56 1381,-12 1381,-12 1381,-6 1387,-0 1393,-0 1393,-0 1487,-0 1487,-0 1493,-0 1499,-6 1499,-12 1499,-12 1499,-56 1499,-56 1499,-62 1493,-68 1487,-68\"/>\r\n",
       "<text text-anchor=\"middle\" x=\"1440\" y=\"-52.8\" font-family=\"Helvetica,sans-Serif\" font-size=\"14.00\">entropy = 0.439</text>\r\n",
       "<text text-anchor=\"middle\" x=\"1440\" y=\"-37.8\" font-family=\"Helvetica,sans-Serif\" font-size=\"14.00\">samples = 11</text>\r\n",
       "<text text-anchor=\"middle\" x=\"1440\" y=\"-22.8\" font-family=\"Helvetica,sans-Serif\" font-size=\"14.00\">value = [1, 10]</text>\r\n",
       "<text text-anchor=\"middle\" x=\"1440\" y=\"-7.8\" font-family=\"Helvetica,sans-Serif\" font-size=\"14.00\">class = survived</text>\r\n",
       "</g>\r\n",
       "<!-- 29&#45;&gt;31 -->\r\n",
       "<g id=\"edge31\" class=\"edge\"><title>29&#45;&gt;31</title>\r\n",
       "<path fill=\"none\" stroke=\"black\" d=\"M1360.92,-103.726C1371.73,-94.3318 1383.21,-84.349 1393.99,-74.9883\"/>\r\n",
       "<polygon fill=\"black\" stroke=\"black\" points=\"1396.43,-77.501 1401.68,-68.2996 1391.84,-72.2174 1396.43,-77.501\"/>\r\n",
       "</g>\r\n",
       "<!-- 33 -->\r\n",
       "<g id=\"node34\" class=\"node\"><title>33</title>\r\n",
       "<path fill=\"#bcdef6\" stroke=\"black\" d=\"M1827,-306C1827,-306 1733,-306 1733,-306 1727,-306 1721,-300 1721,-294 1721,-294 1721,-235 1721,-235 1721,-229 1727,-223 1733,-223 1733,-223 1827,-223 1827,-223 1833,-223 1839,-229 1839,-235 1839,-235 1839,-294 1839,-294 1839,-300 1833,-306 1827,-306\"/>\r\n",
       "<text text-anchor=\"middle\" x=\"1780\" y=\"-290.8\" font-family=\"Helvetica,sans-Serif\" font-size=\"14.00\">S &lt;= 0.5</text>\r\n",
       "<text text-anchor=\"middle\" x=\"1780\" y=\"-275.8\" font-family=\"Helvetica,sans-Serif\" font-size=\"14.00\">entropy = 0.969</text>\r\n",
       "<text text-anchor=\"middle\" x=\"1780\" y=\"-260.8\" font-family=\"Helvetica,sans-Serif\" font-size=\"14.00\">samples = 78</text>\r\n",
       "<text text-anchor=\"middle\" x=\"1780\" y=\"-245.8\" font-family=\"Helvetica,sans-Serif\" font-size=\"14.00\">value = [31, 47]</text>\r\n",
       "<text text-anchor=\"middle\" x=\"1780\" y=\"-230.8\" font-family=\"Helvetica,sans-Serif\" font-size=\"14.00\">class = survived</text>\r\n",
       "</g>\r\n",
       "<!-- 32&#45;&gt;33 -->\r\n",
       "<g id=\"edge33\" class=\"edge\"><title>32&#45;&gt;33</title>\r\n",
       "<path fill=\"none\" stroke=\"black\" d=\"M1780,-341.907C1780,-333.649 1780,-324.864 1780,-316.302\"/>\r\n",
       "<polygon fill=\"black\" stroke=\"black\" points=\"1783.5,-316.021 1780,-306.021 1776.5,-316.021 1783.5,-316.021\"/>\r\n",
       "</g>\r\n",
       "<!-- 40 -->\r\n",
       "<g id=\"node41\" class=\"node\"><title>40</title>\r\n",
       "<path fill=\"#e68844\" stroke=\"black\" d=\"M2155,-306C2155,-306 2063,-306 2063,-306 2057,-306 2051,-300 2051,-294 2051,-294 2051,-235 2051,-235 2051,-229 2057,-223 2063,-223 2063,-223 2155,-223 2155,-223 2161,-223 2167,-229 2167,-235 2167,-235 2167,-294 2167,-294 2167,-300 2161,-306 2155,-306\"/>\r\n",
       "<text text-anchor=\"middle\" x=\"2109\" y=\"-290.8\" font-family=\"Helvetica,sans-Serif\" font-size=\"14.00\">Age &lt;= 5.5</text>\r\n",
       "<text text-anchor=\"middle\" x=\"2109\" y=\"-275.8\" font-family=\"Helvetica,sans-Serif\" font-size=\"14.00\">entropy = 0.297</text>\r\n",
       "<text text-anchor=\"middle\" x=\"2109\" y=\"-260.8\" font-family=\"Helvetica,sans-Serif\" font-size=\"14.00\">samples = 19</text>\r\n",
       "<text text-anchor=\"middle\" x=\"2109\" y=\"-245.8\" font-family=\"Helvetica,sans-Serif\" font-size=\"14.00\">value = [18, 1]</text>\r\n",
       "<text text-anchor=\"middle\" x=\"2109\" y=\"-230.8\" font-family=\"Helvetica,sans-Serif\" font-size=\"14.00\">class = Died</text>\r\n",
       "</g>\r\n",
       "<!-- 32&#45;&gt;40 -->\r\n",
       "<g id=\"edge40\" class=\"edge\"><title>32&#45;&gt;40</title>\r\n",
       "<path fill=\"none\" stroke=\"black\" d=\"M1836.56,-362.387C1893.41,-342.169 1981.06,-310.999 2041.51,-289.501\"/>\r\n",
       "<polygon fill=\"black\" stroke=\"black\" points=\"2042.72,-292.785 2050.97,-286.136 2040.38,-286.189 2042.72,-292.785\"/>\r\n",
       "</g>\r\n",
       "<!-- 34 -->\r\n",
       "<g id=\"node35\" class=\"node\"><title>34</title>\r\n",
       "<path fill=\"#7ebfee\" stroke=\"black\" d=\"M1759,-187C1759,-187 1665,-187 1665,-187 1659,-187 1653,-181 1653,-175 1653,-175 1653,-116 1653,-116 1653,-110 1659,-104 1665,-104 1665,-104 1759,-104 1759,-104 1765,-104 1771,-110 1771,-116 1771,-116 1771,-175 1771,-175 1771,-181 1765,-187 1759,-187\"/>\r\n",
       "<text text-anchor=\"middle\" x=\"1712\" y=\"-171.8\" font-family=\"Helvetica,sans-Serif\" font-size=\"14.00\">Age &lt;= 16.5</text>\r\n",
       "<text text-anchor=\"middle\" x=\"1712\" y=\"-156.8\" font-family=\"Helvetica,sans-Serif\" font-size=\"14.00\">entropy = 0.824</text>\r\n",
       "<text text-anchor=\"middle\" x=\"1712\" y=\"-141.8\" font-family=\"Helvetica,sans-Serif\" font-size=\"14.00\">samples = 31</text>\r\n",
       "<text text-anchor=\"middle\" x=\"1712\" y=\"-126.8\" font-family=\"Helvetica,sans-Serif\" font-size=\"14.00\">value = [8, 23]</text>\r\n",
       "<text text-anchor=\"middle\" x=\"1712\" y=\"-111.8\" font-family=\"Helvetica,sans-Serif\" font-size=\"14.00\">class = survived</text>\r\n",
       "</g>\r\n",
       "<!-- 33&#45;&gt;34 -->\r\n",
       "<g id=\"edge34\" class=\"edge\"><title>33&#45;&gt;34</title>\r\n",
       "<path fill=\"none\" stroke=\"black\" d=\"M1756.41,-222.907C1751.34,-214.195 1745.94,-204.897 1740.71,-195.893\"/>\r\n",
       "<polygon fill=\"black\" stroke=\"black\" points=\"1743.6,-193.908 1735.55,-187.021 1737.55,-197.425 1743.6,-193.908\"/>\r\n",
       "</g>\r\n",
       "<!-- 37 -->\r\n",
       "<g id=\"node38\" class=\"node\"><title>37</title>\r\n",
       "<path fill=\"#f7fbfe\" stroke=\"black\" d=\"M1895,-187C1895,-187 1801,-187 1801,-187 1795,-187 1789,-181 1789,-175 1789,-175 1789,-116 1789,-116 1789,-110 1795,-104 1801,-104 1801,-104 1895,-104 1895,-104 1901,-104 1907,-110 1907,-116 1907,-116 1907,-175 1907,-175 1907,-181 1901,-187 1895,-187\"/>\r\n",
       "<text text-anchor=\"middle\" x=\"1848\" y=\"-171.8\" font-family=\"Helvetica,sans-Serif\" font-size=\"14.00\">Fare &lt;= 7.65</text>\r\n",
       "<text text-anchor=\"middle\" x=\"1848\" y=\"-156.8\" font-family=\"Helvetica,sans-Serif\" font-size=\"14.00\">entropy = 1.0</text>\r\n",
       "<text text-anchor=\"middle\" x=\"1848\" y=\"-141.8\" font-family=\"Helvetica,sans-Serif\" font-size=\"14.00\">samples = 47</text>\r\n",
       "<text text-anchor=\"middle\" x=\"1848\" y=\"-126.8\" font-family=\"Helvetica,sans-Serif\" font-size=\"14.00\">value = [23, 24]</text>\r\n",
       "<text text-anchor=\"middle\" x=\"1848\" y=\"-111.8\" font-family=\"Helvetica,sans-Serif\" font-size=\"14.00\">class = survived</text>\r\n",
       "</g>\r\n",
       "<!-- 33&#45;&gt;37 -->\r\n",
       "<g id=\"edge37\" class=\"edge\"><title>33&#45;&gt;37</title>\r\n",
       "<path fill=\"none\" stroke=\"black\" d=\"M1803.59,-222.907C1808.66,-214.195 1814.06,-204.897 1819.29,-195.893\"/>\r\n",
       "<polygon fill=\"black\" stroke=\"black\" points=\"1822.45,-197.425 1824.45,-187.021 1816.4,-193.908 1822.45,-197.425\"/>\r\n",
       "</g>\r\n",
       "<!-- 35 -->\r\n",
       "<g id=\"node36\" class=\"node\"><title>35</title>\r\n",
       "<path fill=\"#399de5\" stroke=\"black\" d=\"M1623,-68C1623,-68 1529,-68 1529,-68 1523,-68 1517,-62 1517,-56 1517,-56 1517,-12 1517,-12 1517,-6 1523,-0 1529,-0 1529,-0 1623,-0 1623,-0 1629,-0 1635,-6 1635,-12 1635,-12 1635,-56 1635,-56 1635,-62 1629,-68 1623,-68\"/>\r\n",
       "<text text-anchor=\"middle\" x=\"1576\" y=\"-52.8\" font-family=\"Helvetica,sans-Serif\" font-size=\"14.00\">entropy = 0.0</text>\r\n",
       "<text text-anchor=\"middle\" x=\"1576\" y=\"-37.8\" font-family=\"Helvetica,sans-Serif\" font-size=\"14.00\">samples = 8</text>\r\n",
       "<text text-anchor=\"middle\" x=\"1576\" y=\"-22.8\" font-family=\"Helvetica,sans-Serif\" font-size=\"14.00\">value = [0, 8]</text>\r\n",
       "<text text-anchor=\"middle\" x=\"1576\" y=\"-7.8\" font-family=\"Helvetica,sans-Serif\" font-size=\"14.00\">class = survived</text>\r\n",
       "</g>\r\n",
       "<!-- 34&#45;&gt;35 -->\r\n",
       "<g id=\"edge35\" class=\"edge\"><title>34&#45;&gt;35</title>\r\n",
       "<path fill=\"none\" stroke=\"black\" d=\"M1661.36,-103.726C1649.58,-94.2406 1637.05,-84.1551 1625.33,-74.7159\"/>\r\n",
       "<polygon fill=\"black\" stroke=\"black\" points=\"1627.34,-71.8448 1617.36,-68.2996 1622.95,-77.2972 1627.34,-71.8448\"/>\r\n",
       "</g>\r\n",
       "<!-- 36 -->\r\n",
       "<g id=\"node37\" class=\"node\"><title>36</title>\r\n",
       "<path fill=\"#a3d1f3\" stroke=\"black\" d=\"M1759,-68C1759,-68 1665,-68 1665,-68 1659,-68 1653,-62 1653,-56 1653,-56 1653,-12 1653,-12 1653,-6 1659,-0 1665,-0 1665,-0 1759,-0 1759,-0 1765,-0 1771,-6 1771,-12 1771,-12 1771,-56 1771,-56 1771,-62 1765,-68 1759,-68\"/>\r\n",
       "<text text-anchor=\"middle\" x=\"1712\" y=\"-52.8\" font-family=\"Helvetica,sans-Serif\" font-size=\"14.00\">entropy = 0.932</text>\r\n",
       "<text text-anchor=\"middle\" x=\"1712\" y=\"-37.8\" font-family=\"Helvetica,sans-Serif\" font-size=\"14.00\">samples = 23</text>\r\n",
       "<text text-anchor=\"middle\" x=\"1712\" y=\"-22.8\" font-family=\"Helvetica,sans-Serif\" font-size=\"14.00\">value = [8, 15]</text>\r\n",
       "<text text-anchor=\"middle\" x=\"1712\" y=\"-7.8\" font-family=\"Helvetica,sans-Serif\" font-size=\"14.00\">class = survived</text>\r\n",
       "</g>\r\n",
       "<!-- 34&#45;&gt;36 -->\r\n",
       "<g id=\"edge36\" class=\"edge\"><title>34&#45;&gt;36</title>\r\n",
       "<path fill=\"none\" stroke=\"black\" d=\"M1712,-103.726C1712,-95.5175 1712,-86.8595 1712,-78.56\"/>\r\n",
       "<polygon fill=\"black\" stroke=\"black\" points=\"1715.5,-78.2996 1712,-68.2996 1708.5,-78.2996 1715.5,-78.2996\"/>\r\n",
       "</g>\r\n",
       "<!-- 38 -->\r\n",
       "<g id=\"node39\" class=\"node\"><title>38</title>\r\n",
       "<path fill=\"#399de5\" stroke=\"black\" d=\"M1895,-68C1895,-68 1801,-68 1801,-68 1795,-68 1789,-62 1789,-56 1789,-56 1789,-12 1789,-12 1789,-6 1795,-0 1801,-0 1801,-0 1895,-0 1895,-0 1901,-0 1907,-6 1907,-12 1907,-12 1907,-56 1907,-56 1907,-62 1901,-68 1895,-68\"/>\r\n",
       "<text text-anchor=\"middle\" x=\"1848\" y=\"-52.8\" font-family=\"Helvetica,sans-Serif\" font-size=\"14.00\">entropy = 0.0</text>\r\n",
       "<text text-anchor=\"middle\" x=\"1848\" y=\"-37.8\" font-family=\"Helvetica,sans-Serif\" font-size=\"14.00\">samples = 3</text>\r\n",
       "<text text-anchor=\"middle\" x=\"1848\" y=\"-22.8\" font-family=\"Helvetica,sans-Serif\" font-size=\"14.00\">value = [0, 3]</text>\r\n",
       "<text text-anchor=\"middle\" x=\"1848\" y=\"-7.8\" font-family=\"Helvetica,sans-Serif\" font-size=\"14.00\">class = survived</text>\r\n",
       "</g>\r\n",
       "<!-- 37&#45;&gt;38 -->\r\n",
       "<g id=\"edge38\" class=\"edge\"><title>37&#45;&gt;38</title>\r\n",
       "<path fill=\"none\" stroke=\"black\" d=\"M1848,-103.726C1848,-95.5175 1848,-86.8595 1848,-78.56\"/>\r\n",
       "<polygon fill=\"black\" stroke=\"black\" points=\"1851.5,-78.2996 1848,-68.2996 1844.5,-78.2996 1851.5,-78.2996\"/>\r\n",
       "</g>\r\n",
       "<!-- 39 -->\r\n",
       "<g id=\"node40\" class=\"node\"><title>39</title>\r\n",
       "<path fill=\"#fdf4ee\" stroke=\"black\" d=\"M2029,-68C2029,-68 1937,-68 1937,-68 1931,-68 1925,-62 1925,-56 1925,-56 1925,-12 1925,-12 1925,-6 1931,-0 1937,-0 1937,-0 2029,-0 2029,-0 2035,-0 2041,-6 2041,-12 2041,-12 2041,-56 2041,-56 2041,-62 2035,-68 2029,-68\"/>\r\n",
       "<text text-anchor=\"middle\" x=\"1983\" y=\"-52.8\" font-family=\"Helvetica,sans-Serif\" font-size=\"14.00\">entropy = 0.999</text>\r\n",
       "<text text-anchor=\"middle\" x=\"1983\" y=\"-37.8\" font-family=\"Helvetica,sans-Serif\" font-size=\"14.00\">samples = 44</text>\r\n",
       "<text text-anchor=\"middle\" x=\"1983\" y=\"-22.8\" font-family=\"Helvetica,sans-Serif\" font-size=\"14.00\">value = [23, 21]</text>\r\n",
       "<text text-anchor=\"middle\" x=\"1983\" y=\"-7.8\" font-family=\"Helvetica,sans-Serif\" font-size=\"14.00\">class = Died</text>\r\n",
       "</g>\r\n",
       "<!-- 37&#45;&gt;39 -->\r\n",
       "<g id=\"edge39\" class=\"edge\"><title>37&#45;&gt;39</title>\r\n",
       "<path fill=\"none\" stroke=\"black\" d=\"M1898.27,-103.726C1909.96,-94.2406 1922.4,-84.1551 1934.04,-74.7159\"/>\r\n",
       "<polygon fill=\"black\" stroke=\"black\" points=\"1936.38,-77.3173 1941.95,-68.2996 1931.97,-71.8808 1936.38,-77.3173\"/>\r\n",
       "</g>\r\n",
       "<!-- 41 -->\r\n",
       "<g id=\"node42\" class=\"node\"><title>41</title>\r\n",
       "<path fill=\"#f2c09c\" stroke=\"black\" d=\"M2155,-187C2155,-187 2063,-187 2063,-187 2057,-187 2051,-181 2051,-175 2051,-175 2051,-116 2051,-116 2051,-110 2057,-104 2063,-104 2063,-104 2155,-104 2155,-104 2161,-104 2167,-110 2167,-116 2167,-116 2167,-175 2167,-175 2167,-181 2161,-187 2155,-187\"/>\r\n",
       "<text text-anchor=\"middle\" x=\"2109\" y=\"-171.8\" font-family=\"Helvetica,sans-Serif\" font-size=\"14.00\">Age &lt;= 3.5</text>\r\n",
       "<text text-anchor=\"middle\" x=\"2109\" y=\"-156.8\" font-family=\"Helvetica,sans-Serif\" font-size=\"14.00\">entropy = 0.918</text>\r\n",
       "<text text-anchor=\"middle\" x=\"2109\" y=\"-141.8\" font-family=\"Helvetica,sans-Serif\" font-size=\"14.00\">samples = 3</text>\r\n",
       "<text text-anchor=\"middle\" x=\"2109\" y=\"-126.8\" font-family=\"Helvetica,sans-Serif\" font-size=\"14.00\">value = [2, 1]</text>\r\n",
       "<text text-anchor=\"middle\" x=\"2109\" y=\"-111.8\" font-family=\"Helvetica,sans-Serif\" font-size=\"14.00\">class = Died</text>\r\n",
       "</g>\r\n",
       "<!-- 40&#45;&gt;41 -->\r\n",
       "<g id=\"edge41\" class=\"edge\"><title>40&#45;&gt;41</title>\r\n",
       "<path fill=\"none\" stroke=\"black\" d=\"M2109,-222.907C2109,-214.649 2109,-205.864 2109,-197.302\"/>\r\n",
       "<polygon fill=\"black\" stroke=\"black\" points=\"2112.5,-197.021 2109,-187.021 2105.5,-197.021 2112.5,-197.021\"/>\r\n",
       "</g>\r\n",
       "<!-- 44 -->\r\n",
       "<g id=\"node45\" class=\"node\"><title>44</title>\r\n",
       "<path fill=\"#e58139\" stroke=\"black\" d=\"M2278.5,-179.5C2278.5,-179.5 2197.5,-179.5 2197.5,-179.5 2191.5,-179.5 2185.5,-173.5 2185.5,-167.5 2185.5,-167.5 2185.5,-123.5 2185.5,-123.5 2185.5,-117.5 2191.5,-111.5 2197.5,-111.5 2197.5,-111.5 2278.5,-111.5 2278.5,-111.5 2284.5,-111.5 2290.5,-117.5 2290.5,-123.5 2290.5,-123.5 2290.5,-167.5 2290.5,-167.5 2290.5,-173.5 2284.5,-179.5 2278.5,-179.5\"/>\r\n",
       "<text text-anchor=\"middle\" x=\"2238\" y=\"-164.3\" font-family=\"Helvetica,sans-Serif\" font-size=\"14.00\">entropy = 0.0</text>\r\n",
       "<text text-anchor=\"middle\" x=\"2238\" y=\"-149.3\" font-family=\"Helvetica,sans-Serif\" font-size=\"14.00\">samples = 16</text>\r\n",
       "<text text-anchor=\"middle\" x=\"2238\" y=\"-134.3\" font-family=\"Helvetica,sans-Serif\" font-size=\"14.00\">value = [16, 0]</text>\r\n",
       "<text text-anchor=\"middle\" x=\"2238\" y=\"-119.3\" font-family=\"Helvetica,sans-Serif\" font-size=\"14.00\">class = Died</text>\r\n",
       "</g>\r\n",
       "<!-- 40&#45;&gt;44 -->\r\n",
       "<g id=\"edge44\" class=\"edge\"><title>40&#45;&gt;44</title>\r\n",
       "<path fill=\"none\" stroke=\"black\" d=\"M2153.76,-222.907C2166.77,-211.101 2180.98,-198.217 2193.95,-186.45\"/>\r\n",
       "<polygon fill=\"black\" stroke=\"black\" points=\"2196.38,-188.978 2201.43,-179.667 2191.67,-183.793 2196.38,-188.978\"/>\r\n",
       "</g>\r\n",
       "<!-- 42 -->\r\n",
       "<g id=\"node43\" class=\"node\"><title>42</title>\r\n",
       "<path fill=\"#e58139\" stroke=\"black\" d=\"M2147,-68C2147,-68 2071,-68 2071,-68 2065,-68 2059,-62 2059,-56 2059,-56 2059,-12 2059,-12 2059,-6 2065,-0 2071,-0 2071,-0 2147,-0 2147,-0 2153,-0 2159,-6 2159,-12 2159,-12 2159,-56 2159,-56 2159,-62 2153,-68 2147,-68\"/>\r\n",
       "<text text-anchor=\"middle\" x=\"2109\" y=\"-52.8\" font-family=\"Helvetica,sans-Serif\" font-size=\"14.00\">entropy = 0.0</text>\r\n",
       "<text text-anchor=\"middle\" x=\"2109\" y=\"-37.8\" font-family=\"Helvetica,sans-Serif\" font-size=\"14.00\">samples = 2</text>\r\n",
       "<text text-anchor=\"middle\" x=\"2109\" y=\"-22.8\" font-family=\"Helvetica,sans-Serif\" font-size=\"14.00\">value = [2, 0]</text>\r\n",
       "<text text-anchor=\"middle\" x=\"2109\" y=\"-7.8\" font-family=\"Helvetica,sans-Serif\" font-size=\"14.00\">class = Died</text>\r\n",
       "</g>\r\n",
       "<!-- 41&#45;&gt;42 -->\r\n",
       "<g id=\"edge42\" class=\"edge\"><title>41&#45;&gt;42</title>\r\n",
       "<path fill=\"none\" stroke=\"black\" d=\"M2109,-103.726C2109,-95.5175 2109,-86.8595 2109,-78.56\"/>\r\n",
       "<polygon fill=\"black\" stroke=\"black\" points=\"2112.5,-78.2996 2109,-68.2996 2105.5,-78.2996 2112.5,-78.2996\"/>\r\n",
       "</g>\r\n",
       "<!-- 43 -->\r\n",
       "<g id=\"node44\" class=\"node\"><title>43</title>\r\n",
       "<path fill=\"#399de5\" stroke=\"black\" d=\"M2283,-68C2283,-68 2189,-68 2189,-68 2183,-68 2177,-62 2177,-56 2177,-56 2177,-12 2177,-12 2177,-6 2183,-0 2189,-0 2189,-0 2283,-0 2283,-0 2289,-0 2295,-6 2295,-12 2295,-12 2295,-56 2295,-56 2295,-62 2289,-68 2283,-68\"/>\r\n",
       "<text text-anchor=\"middle\" x=\"2236\" y=\"-52.8\" font-family=\"Helvetica,sans-Serif\" font-size=\"14.00\">entropy = 0.0</text>\r\n",
       "<text text-anchor=\"middle\" x=\"2236\" y=\"-37.8\" font-family=\"Helvetica,sans-Serif\" font-size=\"14.00\">samples = 1</text>\r\n",
       "<text text-anchor=\"middle\" x=\"2236\" y=\"-22.8\" font-family=\"Helvetica,sans-Serif\" font-size=\"14.00\">value = [0, 1]</text>\r\n",
       "<text text-anchor=\"middle\" x=\"2236\" y=\"-7.8\" font-family=\"Helvetica,sans-Serif\" font-size=\"14.00\">class = survived</text>\r\n",
       "</g>\r\n",
       "<!-- 41&#45;&gt;43 -->\r\n",
       "<g id=\"edge43\" class=\"edge\"><title>41&#45;&gt;43</title>\r\n",
       "<path fill=\"none\" stroke=\"black\" d=\"M2156.29,-103.726C2167.19,-94.3318 2178.76,-84.349 2189.62,-74.9883\"/>\r\n",
       "<polygon fill=\"black\" stroke=\"black\" points=\"2192.09,-77.4804 2197.38,-68.2996 2187.52,-72.1789 2192.09,-77.4804\"/>\r\n",
       "</g>\r\n",
       "</g>\r\n",
       "</svg>\r\n"
      ],
      "text/plain": [
       "<graphviz.files.Source at 0x18a52b2eba8>"
      ]
     },
     "execution_count": 79,
     "metadata": {},
     "output_type": "execute_result"
    }
   ],
   "source": [
    "graph = graphviz.Source(dot_data) \n",
    "\n",
    "graph "
   ]
  },
  {
   "cell_type": "code",
   "execution_count": 80,
   "metadata": {},
   "outputs": [],
   "source": [
    "#ss = survive\n",
    "#graph.render(\"iris1\") "
   ]
  },
  {
   "cell_type": "markdown",
   "metadata": {},
   "source": [
    "# Support Vector Machine"
   ]
  },
  {
   "cell_type": "code",
   "execution_count": 83,
   "metadata": {},
   "outputs": [],
   "source": [
    "from sklearn.svm import LinearSVC"
   ]
  },
  {
   "cell_type": "code",
   "execution_count": 84,
   "metadata": {},
   "outputs": [],
   "source": [
    "X_trains, X_tests, y_trains, y_tests = train_test_split(X, y, test_size=0.2, random_state=42 )"
   ]
  },
  {
   "cell_type": "code",
   "execution_count": 113,
   "metadata": {},
   "outputs": [
    {
     "data": {
      "text/plain": [
       "LinearSVC(C=5, class_weight=None, dual=False, fit_intercept=True,\n",
       "          intercept_scaling=1, loss='squared_hinge', max_iter=1000,\n",
       "          multi_class='ovr', penalty='l2', random_state=None, tol=0.0001,\n",
       "          verbose=0)"
      ]
     },
     "execution_count": 113,
     "metadata": {},
     "output_type": "execute_result"
    }
   ],
   "source": [
    "svm_clf = LinearSVC(C=5, dual=False, max_iter=1000)\n",
    "\n",
    "svm_clf.fit(X_trains, y_trains)"
   ]
  },
  {
   "cell_type": "code",
   "execution_count": 114,
   "metadata": {},
   "outputs": [
    {
     "name": "stdout",
     "output_type": "stream",
     "text": [
      "Train set Accuracy:  0.7943760984182777\n",
      "Test set Accuracy:  0.8041958041958042\n"
     ]
    }
   ],
   "source": [
    "print(\"Train set Accuracy: \", metrics.accuracy_score(y_train, svm_clf.predict(X_trains)))\n",
    "\n",
    "print(\"Test set Accuracy: \", metrics.accuracy_score(y_test, svm_clf.predict(X_tests)))\n"
   ]
  },
  {
   "cell_type": "markdown",
   "metadata": {},
   "source": [
    "## Picking the best model"
   ]
  },
  {
   "cell_type": "code",
   "execution_count": 118,
   "metadata": {},
   "outputs": [
    {
     "data": {
      "text/plain": [
       "(179, 15)"
      ]
     },
     "execution_count": 118,
     "metadata": {},
     "output_type": "execute_result"
    }
   ],
   "source": [
    "Test.shape"
   ]
  },
  {
   "cell_type": "code",
   "execution_count": 145,
   "metadata": {},
   "outputs": [],
   "source": [
    "X_tests = Test.drop('Survived', axis=1)\n",
    "y_tests = Test['Survived'].copy()"
   ]
  },
  {
   "cell_type": "markdown",
   "metadata": {},
   "source": [
    "## Confusion Matrix"
   ]
  },
  {
   "cell_type": "code",
   "execution_count": 146,
   "metadata": {},
   "outputs": [],
   "source": [
    "from sklearn.metrics import confusion_matrix, precision_score, recall_score, f1_score"
   ]
  },
  {
   "cell_type": "markdown",
   "metadata": {},
   "source": [
    "### For K-Nearest Neighbour"
   ]
  },
  {
   "cell_type": "code",
   "execution_count": 147,
   "metadata": {},
   "outputs": [
    {
     "name": "stdout",
     "output_type": "stream",
     "text": [
      "Confusion Matrix \n",
      " [[69 36]\n",
      " [15 59]]\n",
      "Precision :  0.6210526315789474\n",
      "Recall:  0.7972972972972973\n",
      "F1_Score:  0.6982248520710059\n",
      "Test set Accuracy:  0.7150837988826816\n"
     ]
    }
   ],
   "source": [
    "print('Confusion Matrix \\n', confusion_matrix(y_tests, knn.predict(X_tests)))\n",
    "\n",
    "print('Precision : ' , precision_score(y_tests, knn.predict(X_tests)))\n",
    "\n",
    "print('Recall: ',  recall_score(y_tests, knn.predict(X_tests)))\n",
    "\n",
    "print('F1_Score: ',  f1_score(y_tests, knn.predict(X_tests)))\n",
    "\n",
    "print(\"Test set Accuracy: \", metrics.accuracy_score(y_tests, knn.predict(X_tests)))"
   ]
  },
  {
   "cell_type": "markdown",
   "metadata": {},
   "source": [
    "### For Decision Tree"
   ]
  },
  {
   "cell_type": "code",
   "execution_count": 148,
   "metadata": {},
   "outputs": [
    {
     "name": "stdout",
     "output_type": "stream",
     "text": [
      "Confusion Matrix \n",
      " [[95 10]\n",
      " [25 49]]\n",
      "Precision :  0.8305084745762712\n",
      "Recall:  0.6621621621621622\n",
      "F1_Score:  0.7368421052631579\n",
      "Test set Accuracy:  0.8044692737430168\n"
     ]
    }
   ],
   "source": [
    "print('Confusion Matrix \\n', confusion_matrix(y_tests, tree_clf.predict(X_tests)))\n",
    "\n",
    "print('Precision : ' , precision_score(y_tests, tree_clf.predict(X_tests)))\n",
    "\n",
    "print('Recall: ',  recall_score(y_tests, tree_clf.predict(X_tests)))\n",
    "\n",
    "print('F1_Score: ',  f1_score(y_tests, tree_clf.predict(X_tests)))\n",
    "\n",
    "print(\"Test set Accuracy: \", metrics.accuracy_score(y_tests, tree_clf.predict(X_tests)))"
   ]
  },
  {
   "cell_type": "markdown",
   "metadata": {},
   "source": [
    "### For Support vector machine"
   ]
  },
  {
   "cell_type": "code",
   "execution_count": 162,
   "metadata": {},
   "outputs": [
    {
     "name": "stdout",
     "output_type": "stream",
     "text": [
      "Confusion Matrix \n",
      " [[88 17]\n",
      " [20 54]]\n",
      "Precision :  0.7605633802816901\n",
      "Recall:  0.7297297297297297\n",
      "F1_Score:  0.7448275862068966\n",
      "Test set Accuracy:  0.7932960893854749\n"
     ]
    }
   ],
   "source": [
    "print('Confusion Matrix \\n', confusion_matrix(y_tests, svm_clf.predict(X_tests)))\n",
    "\n",
    "print('Precision : ' , precision_score(y_tests, svm_clf.predict(X_tests)))\n",
    "\n",
    "print('Recall: ',  recall_score(y_tests, svm_clf.predict(X_tests)))\n",
    "\n",
    "print('F1_Score: ',  f1_score(y_tests, svm_clf.predict(X_tests)))\n",
    "\n",
    "print(\"Test set Accuracy: \", metrics.accuracy_score(y_tests, svm_clf.predict(X_tests)))"
   ]
  },
  {
   "cell_type": "code",
   "execution_count": 163,
   "metadata": {},
   "outputs": [
    {
     "data": {
      "text/html": [
       "<div>\n",
       "<style scoped>\n",
       "    .dataframe tbody tr th:only-of-type {\n",
       "        vertical-align: middle;\n",
       "    }\n",
       "\n",
       "    .dataframe tbody tr th {\n",
       "        vertical-align: top;\n",
       "    }\n",
       "\n",
       "    .dataframe thead th {\n",
       "        text-align: right;\n",
       "    }\n",
       "</style>\n",
       "<table border=\"1\" class=\"dataframe\">\n",
       "  <thead>\n",
       "    <tr style=\"text-align: right;\">\n",
       "      <th></th>\n",
       "      <th>KNN</th>\n",
       "      <th>DT</th>\n",
       "      <th>SVM</th>\n",
       "    </tr>\n",
       "  </thead>\n",
       "  <tbody>\n",
       "    <tr>\n",
       "      <th>Precision</th>\n",
       "      <td>0.621053</td>\n",
       "      <td>0.830508</td>\n",
       "      <td>0.760563</td>\n",
       "    </tr>\n",
       "    <tr>\n",
       "      <th>Recall</th>\n",
       "      <td>0.797297</td>\n",
       "      <td>0.662162</td>\n",
       "      <td>0.729730</td>\n",
       "    </tr>\n",
       "    <tr>\n",
       "      <th>F1_Score</th>\n",
       "      <td>0.698225</td>\n",
       "      <td>0.736842</td>\n",
       "      <td>0.744828</td>\n",
       "    </tr>\n",
       "    <tr>\n",
       "      <th>Accuracy</th>\n",
       "      <td>0.715084</td>\n",
       "      <td>0.804469</td>\n",
       "      <td>0.793296</td>\n",
       "    </tr>\n",
       "  </tbody>\n",
       "</table>\n",
       "</div>"
      ],
      "text/plain": [
       "                KNN        DT       SVM\n",
       "Precision  0.621053  0.830508  0.760563\n",
       "Recall     0.797297  0.662162  0.729730\n",
       "F1_Score   0.698225  0.736842  0.744828\n",
       "Accuracy   0.715084  0.804469  0.793296"
      ]
     },
     "execution_count": 163,
     "metadata": {},
     "output_type": "execute_result"
    }
   ],
   "source": [
    "pd.DataFrame({'KNN':  [0.6210526315789474, 0.7972972972972973, 0.6982248520710059, 0.7150837988826816],\n",
    "              'DT': [0.8305084745762712, 0.6621621621621622,  0.7368421052631579, 0.8044692737430168 ],\n",
    "              'SVM': [0.7605633802816901, 0.7297297297297297, 0.7448275862068966, 0.7932960893854749 ]},\n",
    "            index=['Precision', 'Recall', 'F1_Score', 'Accuracy'])"
   ]
  },
  {
   "cell_type": "markdown",
   "metadata": {},
   "source": [
    "- I would use the F1-Score as the deciding metric because false positives and false negatives are important to us.\n",
    "- The SVM Model has the highest F1-Score\n",
    "- Therefore we would pick the SVM as the best model"
   ]
  },
  {
   "cell_type": "code",
   "execution_count": null,
   "metadata": {},
   "outputs": [],
   "source": []
  }
 ],
 "metadata": {
  "kernelspec": {
   "display_name": "Python 3",
   "language": "python",
   "name": "python3"
  },
  "language_info": {
   "codemirror_mode": {
    "name": "ipython",
    "version": 3
   },
   "file_extension": ".py",
   "mimetype": "text/x-python",
   "name": "python",
   "nbconvert_exporter": "python",
   "pygments_lexer": "ipython3",
   "version": "3.7.3"
  }
 },
 "nbformat": 4,
 "nbformat_minor": 2
}
